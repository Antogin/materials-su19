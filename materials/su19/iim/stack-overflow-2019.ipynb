{
 "cells": [
  {
   "cell_type": "markdown",
   "metadata": {},
   "source": [
    "# Stack"
   ]
  },
  {
   "cell_type": "code",
   "execution_count": 1,
   "metadata": {},
   "outputs": [],
   "source": [
    "from datascience import *\n",
    "import numpy as np\n",
    "%matplotlib inline\n",
    "import matplotlib.pyplot as plots\n",
    "plots.style.use('fivethirtyeight')\n",
    "import warnings\n",
    "warnings.simplefilter(action=\"ignore\", category=FutureWarning)\n",
    "\n",
    "from urllib.request import urlopen \n",
    "import re\n",
    "\n",
    "from shutil import unpack_archive\n",
    "unpack_archive('clean_2019.csv.zip')\n"
   ]
  },
  {
   "cell_type": "code",
   "execution_count": 2,
   "metadata": {},
   "outputs": [],
   "source": [
    "survey = Table.read_table('clean_2019.csv')"
   ]
  },
  {
   "cell_type": "code",
   "execution_count": 3,
   "metadata": {},
   "outputs": [
    {
     "data": {
      "text/html": [
       "<table border=\"1\" class=\"dataframe\">\n",
       "    <thead>\n",
       "        <tr>\n",
       "            <th>Respondent</th> <th>MainBranch</th> <th>Hobbyist</th> <th>OpenSourcer</th> <th>OpenSource</th> <th>Employment</th> <th>Country</th> <th>Student</th> <th>EdLevel</th> <th>UndergradMajor</th> <th>EduOther</th> <th>OrgSize</th> <th>DevType</th> <th>YearsCode</th> <th>Age1stCode</th> <th>YearsCodePro</th> <th>CareerSat</th> <th>JobSat</th> <th>MgrIdiot</th> <th>MgrMoney</th> <th>MgrWant</th> <th>JobSeek</th> <th>LastHireDate</th> <th>LastInt</th> <th>FizzBuzz</th> <th>JobFactors</th> <th>ResumeUpdate</th> <th>CurrencySymbol</th> <th>CurrencyDesc</th> <th>CompTotal</th> <th>CompFreq</th> <th>ConvertedComp</th> <th>WorkWeekHrs</th> <th>WorkPlan</th> <th>WorkChallenge</th> <th>WorkRemote</th> <th>WorkLoc</th> <th>ImpSyn</th> <th>CodeRev</th> <th>CodeRevHrs</th> <th>UnitTests</th> <th>PurchaseHow</th> <th>PurchaseWhat</th> <th>LanguageWorkedWith</th> <th>LanguageDesireNextYear</th> <th>DatabaseWorkedWith</th> <th>DatabaseDesireNextYear</th> <th>PlatformWorkedWith</th> <th>PlatformDesireNextYear</th> <th>WebFrameWorkedWith</th> <th>WebFrameDesireNextYear</th> <th>MiscTechWorkedWith</th> <th>MiscTechDesireNextYear</th> <th>DevEnviron</th> <th>OpSys</th> <th>Containers</th> <th>BlockchainOrg</th> <th>BlockchainIs</th> <th>BetterLife</th> <th>ITperson</th> <th>OffOn</th> <th>SocialMedia</th> <th>Extraversion</th> <th>ScreenName</th> <th>SOVisit1st</th> <th>SOVisitFreq</th> <th>SOVisitTo</th> <th>SOFindAnswer</th> <th>SOTimeSaved</th> <th>SOHowMuchTime</th> <th>SOAccount</th> <th>SOPartFreq</th> <th>SOJobs</th> <th>EntTeams</th> <th>SOComm</th> <th>WelcomeChange</th> <th>SONewContent</th> <th>Age</th> <th>Gender</th> <th>Trans</th> <th>Sexuality</th> <th>Ethnicity</th> <th>Dependents</th> <th>SurveyLength</th> <th>SurveyEase</th> <th>filters</th> <th>String stuff</th>\n",
       "        </tr>\n",
       "    </thead>\n",
       "    <tbody>\n",
       "        <tr>\n",
       "            <td>3         </td> <td>I am not primarily a developer, but I write code sometim ...</td> <td>Yes     </td> <td>Never      </td> <td>The quality of OSS and closed source software is about t ...</td> <td>Employed full-time</td> <td>Thailand     </td> <td>No     </td> <td>Bachelor’s degree (BA, BS, B.Eng., etc.)</td> <td>Web development or web design                               </td> <td>Taught yourself a new language, framework, or tool witho ...</td> <td>100 to 499 employees</td> <td>Designer;Developer, back-end;Developer, front-end;Develo ...</td> <td>3        </td> <td>22        </td> <td>1               </td> <td>Slightly satisfied</td> <td>Slightly satisfied</td> <td>Not at all confident</td> <td>Not sure</td> <td>Not sure</td> <td>I’m not actively looking, but I am open to new opportunities</td> <td>1-2 years ago       </td> <td>Interview with people in peer roles                         </td> <td>No      </td> <td>Languages, frameworks, and other technologies I'd be wor ...</td> <td>I was preparing for a job search                            </td> <td>THB           </td> <td>Thai baht           </td> <td>23000    </td> <td>Monthly </td> <td>8820         </td> <td>40         </td> <td>There's no schedule or spec; I work on what seems most i ...</td> <td>Distracting work environment;Inadequate access to necess ...</td> <td>Less than once per month / Never</td> <td>Home   </td> <td>Average               </td> <td>No     </td> <td>nan       </td> <td>No, but I think we should                                   </td> <td>Not sure                                                    </td> <td>I have little or no influence</td> <td>HTML/CSS           </td> <td>Elixir;HTML/CSS       </td> <td>PostgreSQL        </td> <td>PostgreSQL            </td> <td>nan                                        </td> <td>nan                                        </td> <td>nan               </td> <td>Other(s):             </td> <td>nan               </td> <td>nan                              </td> <td>Vim;Visual Studio Code                                   </td> <td>Linux-based</td> <td>I do not use containers</td> <td>nan          </td> <td>nan                                              </td> <td>Yes       </td> <td>Yes     </td> <td>Yes  </td> <td>Reddit     </td> <td>In real life (in person)</td> <td>Username  </td> <td>2011      </td> <td>A few times per week           </td> <td>Find answers to specific questions;Learn how to do thing ...</td> <td>6-10 times per week    </td> <td>They were about the same          </td> <td>nan          </td> <td>Yes      </td> <td>Less than once per month or monthly               </td> <td>Yes                                                         </td> <td>No, I've heard of them, but I am not part of a private Q ...</td> <td>Neutral       </td> <td>Just as welcome now as I felt last year</td> <td>Tech meetups or events in your area;Courses on technolog ...</td> <td>28  </td> <td>Man   </td> <td>No   </td> <td>Straight / Heterosexual</td> <td>nan                         </td> <td>Yes       </td> <td>Appropriate in length</td> <td>Neither easy nor difficult</td> <td>False  </td> <td>False       </td>\n",
       "        </tr>\n",
       "        <tr>\n",
       "            <td>4         </td> <td>I am a developer by profession                              </td> <td>No      </td> <td>Never      </td> <td>The quality of OSS and closed source software is about t ...</td> <td>Employed full-time</td> <td>United States</td> <td>No     </td> <td>Bachelor’s degree (BA, BS, B.Eng., etc.)</td> <td>Computer science, computer engineering, or software engi ...</td> <td>Taken an online course in programming or software develo ...</td> <td>100 to 499 employees</td> <td>Developer, full-stack                                       </td> <td>3        </td> <td>16        </td> <td>Less than 1 year</td> <td>Very satisfied    </td> <td>Slightly satisfied</td> <td>Very confident      </td> <td>No      </td> <td>Not sure</td> <td>I am not interested in new job opportunities                </td> <td>Less than a year ago</td> <td>Write code by hand (e.g., on a whiteboard);Interview wit ...</td> <td>No      </td> <td>Languages, frameworks, and other technologies I'd be wor ...</td> <td>I was preparing for a job search                            </td> <td>USD           </td> <td>United States dollar</td> <td>61000    </td> <td>Yearly  </td> <td>61000        </td> <td>80         </td> <td>There's no schedule or spec; I work on what seems most i ...</td> <td>nan                                                         </td> <td>Less than once per month / Never</td> <td>Home   </td> <td>A little below average</td> <td>No     </td> <td>nan       </td> <td>No, but I think we should                                   </td> <td>Developers typically have the most influence on purchasi ...</td> <td>I have little or no influence</td> <td>C;C++;C#;Python;SQL</td> <td>C;C#;JavaScript;SQL   </td> <td>MySQL;SQLite      </td> <td>MySQL;SQLite          </td> <td>Linux;Windows                              </td> <td>Linux;Windows                              </td> <td>nan               </td> <td>nan                   </td> <td>.NET              </td> <td>.NET                             </td> <td>Eclipse;Vim;Visual Studio;Visual Studio Code             </td> <td>Windows    </td> <td>I do not use containers</td> <td>Not at all   </td> <td>Useful for decentralized currency (i.e., Bitcoin)</td> <td>Yes       </td> <td>SIGH    </td> <td>Yes  </td> <td>Reddit     </td> <td>In real life (in person)</td> <td>Username  </td> <td>2014      </td> <td>Daily or almost daily          </td> <td>Find answers to specific questions;Pass the time / relax    </td> <td>1-2 times per week     </td> <td>Stack Overflow was much faster    </td> <td>31-60 minutes</td> <td>Yes      </td> <td>Less than once per month or monthly               </td> <td>Yes                                                         </td> <td>No, and I don't know what those are                         </td> <td>No, not really</td> <td>Just as welcome now as I felt last year</td> <td>Tech articles written by other developers;Industry news  ...</td> <td>22  </td> <td>Man   </td> <td>No   </td> <td>Straight / Heterosexual</td> <td>White or of European descent</td> <td>No        </td> <td>Appropriate in length</td> <td>Easy                      </td> <td>False  </td> <td>False       </td>\n",
       "        </tr>\n",
       "        <tr>\n",
       "            <td>6         </td> <td>I am not primarily a developer, but I write code sometim ...</td> <td>Yes     </td> <td>Never      </td> <td>The quality of OSS and closed source software is about t ...</td> <td>Employed full-time</td> <td>Canada       </td> <td>No     </td> <td>Bachelor’s degree (BA, BS, B.Eng., etc.)</td> <td>Mathematics or statistics                                   </td> <td>Taken an online course in programming or software develo ...</td> <td>nan                 </td> <td>Data or business analyst;Data scientist or machine learn ...</td> <td>13       </td> <td>15        </td> <td>3               </td> <td>Very satisfied    </td> <td>Slightly satisfied</td> <td>Very confident      </td> <td>No      </td> <td>Yes     </td> <td>I am not interested in new job opportunities                </td> <td>1-2 years ago       </td> <td>Write any code;Complete a take-home project;Interview wi ...</td> <td>No      </td> <td>Financial performance or funding status of the company o ...</td> <td>I heard about a job opportunity (from a recruiter, onlin ...</td> <td>CAD           </td> <td>Canadian dollar     </td> <td>40000    </td> <td>Monthly </td> <td>366420       </td> <td>15         </td> <td>There's no schedule or spec; I work on what seems most i ...</td> <td>nan                                                         </td> <td>A few days each month           </td> <td>Home   </td> <td>A little above average</td> <td>No     </td> <td>nan       </td> <td>Yes, it's not part of our process but the developers do  ...</td> <td>Not sure                                                    </td> <td>I have little or no influence</td> <td>Java;R;SQL         </td> <td>Python;Scala;SQL      </td> <td>MongoDB;PostgreSQL</td> <td>PostgreSQL            </td> <td>Android;Google Cloud Platform;Linux;Windows</td> <td>Android;Google Cloud Platform;Linux;Windows</td> <td>nan               </td> <td>nan                   </td> <td>Hadoop            </td> <td>Hadoop;Pandas;TensorFlow;Unity 3D</td> <td>Android Studio;Eclipse;PyCharm;RStudio;Visual Studio Code</td> <td>Windows    </td> <td>I do not use containers</td> <td>Not at all   </td> <td>nan                                              </td> <td>No        </td> <td>Yes     </td> <td>No   </td> <td>YouTube    </td> <td>In real life (in person)</td> <td>Login     </td> <td>2011      </td> <td>A few times per month or weekly</td> <td>Find answers to specific questions                          </td> <td>Less than once per week</td> <td>Stack Overflow was slightly faster</td> <td>60+ minutes  </td> <td>Yes      </td> <td>I have never participated in Q&A on Stack Overflow</td> <td>No, I knew that Stack Overflow had a job board but have  ...</td> <td>No, and I don't know what those are                         </td> <td>No, not really</td> <td>Just as welcome now as I felt last year</td> <td>Tech articles written by other developers;Industry news  ...</td> <td>28  </td> <td>Man   </td> <td>No   </td> <td>Straight / Heterosexual</td> <td>East Asian                  </td> <td>No        </td> <td>Too long             </td> <td>Neither easy nor difficult</td> <td>False  </td> <td>False       </td>\n",
       "        </tr>\n",
       "    </tbody>\n",
       "</table>\n",
       "<p>... (52059 rows omitted)</p>"
      ],
      "text/plain": [
       "<IPython.core.display.HTML object>"
      ]
     },
     "metadata": {},
     "output_type": "display_data"
    }
   ],
   "source": [
    "survey.show(3)"
   ]
  },
  {
   "cell_type": "markdown",
   "metadata": {},
   "source": [
    "# 1) get the avrage french salary"
   ]
  },
  {
   "cell_type": "markdown",
   "metadata": {},
   "source": [
    "---"
   ]
  },
  {
   "cell_type": "code",
   "execution_count": 5,
   "metadata": {},
   "outputs": [
    {
     "data": {
      "text/html": [
       "<table border=\"1\" class=\"dataframe\">\n",
       "    <thead>\n",
       "        <tr>\n",
       "            <th>Respondent</th> <th>MainBranch</th> <th>Hobbyist</th> <th>OpenSourcer</th> <th>OpenSource</th> <th>Employment</th> <th>Country</th> <th>Student</th> <th>EdLevel</th> <th>UndergradMajor</th> <th>EduOther</th> <th>OrgSize</th> <th>DevType</th> <th>YearsCode</th> <th>Age1stCode</th> <th>YearsCodePro</th> <th>CareerSat</th> <th>JobSat</th> <th>MgrIdiot</th> <th>MgrMoney</th> <th>MgrWant</th> <th>JobSeek</th> <th>LastHireDate</th> <th>LastInt</th> <th>FizzBuzz</th> <th>JobFactors</th> <th>ResumeUpdate</th> <th>CurrencySymbol</th> <th>CurrencyDesc</th> <th>CompTotal</th> <th>CompFreq</th> <th>ConvertedComp</th> <th>WorkWeekHrs</th> <th>WorkPlan</th> <th>WorkChallenge</th> <th>WorkRemote</th> <th>WorkLoc</th> <th>ImpSyn</th> <th>CodeRev</th> <th>CodeRevHrs</th> <th>UnitTests</th> <th>PurchaseHow</th> <th>PurchaseWhat</th> <th>LanguageWorkedWith</th> <th>LanguageDesireNextYear</th> <th>DatabaseWorkedWith</th> <th>DatabaseDesireNextYear</th> <th>PlatformWorkedWith</th> <th>PlatformDesireNextYear</th> <th>WebFrameWorkedWith</th> <th>WebFrameDesireNextYear</th> <th>MiscTechWorkedWith</th> <th>MiscTechDesireNextYear</th> <th>DevEnviron</th> <th>OpSys</th> <th>Containers</th> <th>BlockchainOrg</th> <th>BlockchainIs</th> <th>BetterLife</th> <th>ITperson</th> <th>OffOn</th> <th>SocialMedia</th> <th>Extraversion</th> <th>ScreenName</th> <th>SOVisit1st</th> <th>SOVisitFreq</th> <th>SOVisitTo</th> <th>SOFindAnswer</th> <th>SOTimeSaved</th> <th>SOHowMuchTime</th> <th>SOAccount</th> <th>SOPartFreq</th> <th>SOJobs</th> <th>EntTeams</th> <th>SOComm</th> <th>WelcomeChange</th> <th>SONewContent</th> <th>Age</th> <th>Gender</th> <th>Trans</th> <th>Sexuality</th> <th>Ethnicity</th> <th>Dependents</th> <th>SurveyLength</th> <th>SurveyEase</th> <th>filters</th> <th>String stuff</th>\n",
       "        </tr>\n",
       "    </thead>\n",
       "    <tbody>\n",
       "        <tr>\n",
       "            <td>57        </td> <td>I am not primarily a developer, but I write code sometim ...</td> <td>Yes     </td> <td>Never                                             </td> <td>OSS is, on average, of HIGHER quality than proprietary / ...</td> <td>Employed full-time</td> <td>France </td> <td>No            </td> <td>Master’s degree (MA, MS, M.Eng., MBA, etc.)</td> <td>A business discipline (ex. accounting, finance, marketing)  </td> <td>Taken an online course in programming or software develo ...</td> <td>10,000 or more employees</td> <td>nan                                      </td> <td>2        </td> <td>29        </td> <td>Less than 1 year</td> <td>Very satisfied                    </td> <td>Very satisfied   </td> <td>Not at all confident</td> <td>No      </td> <td>No                    </td> <td>I am actively looking for a job                             </td> <td>NA - I am an independent contractor or self employed</td> <td>Interview with people in peer roles;Interview with peopl ...</td> <td>No      </td> <td>Financial performance or funding status of the company o ...</td> <td>Something else changed (education, award, media, etc.)</td> <td>EUR           </td> <td>European Euro</td> <td>85000    </td> <td>Yearly  </td> <td>97389        </td> <td>40         </td> <td>There's no schedule or spec; I work on what seems most i ...</td> <td>Lack of support from management;Meetings;Toxic work envi ...</td> <td>A few days each month</td> <td>Other place, such as a coworking space or cafe</td> <td>Far above average     </td> <td>No                                     </td> <td>nan       </td> <td>No, but I think we should    </td> <td>The CTO, CIO, or other management purchase new technolog ...</td> <td>I have little or no influence</td> <td>JavaScript;Python                    </td> <td>Elixir;JavaScript;Python;TypeScript</td> <td>Firebase;MongoDB    </td> <td>DynamoDB;Firebase;MongoDB;Redis</td> <td>Linux;Windows     </td> <td>AWS;Docker;Google Cloud Platform;Kubernetes;Linux;Raspbe ...</td> <td>React.js          </td> <td>React.js              </td> <td>Node.js           </td> <td>Node.js               </td> <td>Notepad++;Visual Studio Code              </td> <td>Linux-based</td> <td>Development;Testing;Production</td> <td>Not at all   </td> <td>Useful across many domains and could change many aspects ...</td> <td>No        </td> <td>SIGH    </td> <td>What?</td> <td>WhatsApp   </td> <td>In real life (in person)</td> <td>UserID    </td> <td>2013      </td> <td>Daily or almost daily </td> <td>Find answers to specific questions                          </td> <td>6-10 times per week</td> <td>Stack Overflow was much faster</td> <td>60+ minutes  </td> <td>Yes      </td> <td>I have never participated in Q&A on Stack Overflow</td> <td>No, I knew that Stack Overflow had a job board but have  ...</td> <td>No, I've heard of them, but I am not part of a private Q ...</td> <td>No, not really </td> <td>Not applicable - I did not use Stack Overflow last year</td> <td>Tech articles written by other developers;Industry news  ...</td> <td>31  </td> <td>Man   </td> <td>No   </td> <td>Straight / Heterosexual</td> <td>nan                         </td> <td>No        </td> <td>Appropriate in length</td> <td>Easy                      </td> <td>False  </td> <td>False       </td>\n",
       "        </tr>\n",
       "        <tr>\n",
       "            <td>196       </td> <td>I am a developer by profession                              </td> <td>Yes     </td> <td>Less than once a month but more than once per year</td> <td>The quality of OSS and closed source software is about t ...</td> <td>Employed full-time</td> <td>France </td> <td>Yes, part-time</td> <td>Master’s degree (MA, MS, M.Eng., MBA, etc.)</td> <td>Computer science, computer engineering, or software engi ...</td> <td>Taken an online course in programming or software develo ...</td> <td>20 to 99 employees      </td> <td>Developer, back-end;Developer, full-stack</td> <td>20       </td> <td>8         </td> <td>16              </td> <td>Neither satisfied nor dissatisfied</td> <td>Very dissatisfied</td> <td>Not at all confident</td> <td>Yes     </td> <td>I am already a manager</td> <td>I’m not actively looking, but I am open to new opportunities</td> <td>More than 4 years ago                               </td> <td>Interview with people in peer roles;Interview with peopl ...</td> <td>No      </td> <td>Languages, frameworks, and other technologies I'd be wor ...</td> <td>I had a negative experience or interaction at work    </td> <td>EUR           </td> <td>European Euro</td> <td>39000    </td> <td>Yearly  </td> <td>44684        </td> <td>37         </td> <td>There is a schedule and/or spec (made by me or by a coll ...</td> <td>Lack of support from management;Not enough people for th ...</td> <td>It's complicated     </td> <td>Home                                          </td> <td>A little above average</td> <td>Yes, because I see value in code review</td> <td>5         </td> <td>Yes, it's part of our process</td> <td>Not sure                                                    </td> <td>I have some influence        </td> <td>C#;HTML/CSS;JavaScript;SQL;TypeScript</td> <td>F#                                 </td> <td>Microsoft SQL Server</td> <td>Elasticsearch;MongoDB;Redis    </td> <td>Windows           </td> <td>AWS;Docker;Kubernetes                                       </td> <td>ASP.NET;jQuery    </td> <td>React.js;Vue.js       </td> <td>.NET;.NET Core    </td> <td>Node.js;Xamarin       </td> <td>Notepad++;Visual Studio;Visual Studio Code</td> <td>Windows    </td> <td>I do not use containers       </td> <td>Not at all   </td> <td>nan                                                         </td> <td>No        </td> <td>SIGH    </td> <td>Yes  </td> <td>Twitter    </td> <td>Online                  </td> <td>Login     </td> <td>2008      </td> <td>Multiple times per day</td> <td>Find answers to specific questions;Learn how to do thing ...</td> <td>3-5 times per week </td> <td>Stack Overflow was much faster</td> <td>11-30 minutes</td> <td>Yes      </td> <td>A few times per month or weekly                   </td> <td>Yes                                                         </td> <td>No, I've heard of them, but I am not part of a private Q ...</td> <td>Yes, definitely</td> <td>Just as welcome now as I felt last year                </td> <td>Tech articles written by other developers;Courses on tec ...</td> <td>40  </td> <td>Man   </td> <td>No   </td> <td>Straight / Heterosexual</td> <td>White or of European descent</td> <td>Yes       </td> <td>Appropriate in length</td> <td>Neither easy nor difficult</td> <td>False  </td> <td>False       </td>\n",
       "        </tr>\n",
       "    </tbody>\n",
       "</table>\n",
       "<p>... (1501 rows omitted)</p>"
      ],
      "text/plain": [
       "<IPython.core.display.HTML object>"
      ]
     },
     "metadata": {},
     "output_type": "display_data"
    }
   ],
   "source": [
    "fr = survey.where('Country', are.equal_to('France'))\n",
    "fr.show(2)"
   ]
  },
  {
   "cell_type": "markdown",
   "metadata": {},
   "source": [
    "---"
   ]
  },
  {
   "cell_type": "code",
   "execution_count": 7,
   "metadata": {},
   "outputs": [
    {
     "data": {
      "text/plain": [
       "39326.61876247505"
      ]
     },
     "execution_count": 7,
     "metadata": {},
     "output_type": "execute_result"
    }
   ],
   "source": [
    "np.mean(fr.column('CompTotal'))"
   ]
  },
  {
   "cell_type": "code",
   "execution_count": 52,
   "metadata": {},
   "outputs": [],
   "source": [
    "def toFloat(x):\n",
    "    return float(x)"
   ]
  },
  {
   "cell_type": "code",
   "execution_count": 53,
   "metadata": {},
   "outputs": [],
   "source": [
    "def isNotString(x):\n",
    "    try:\n",
    "        float(x)\n",
    "        return True\n",
    "    except:\n",
    "        return False"
   ]
  },
  {
   "cell_type": "code",
   "execution_count": 54,
   "metadata": {},
   "outputs": [],
   "source": [
    "def isNotNan(x):\n",
    "    return not np.isnan(float(x))"
   ]
  },
  {
   "cell_type": "code",
   "execution_count": 55,
   "metadata": {},
   "outputs": [
    {
     "data": {
      "text/html": [
       "<table border=\"1\" class=\"dataframe\">\n",
       "    <thead>\n",
       "        <tr>\n",
       "            <th>Respondent</th> <th>MainBranch</th> <th>Hobbyist</th> <th>OpenSourcer</th> <th>OpenSource</th> <th>Employment</th> <th>Country</th> <th>Student</th> <th>EdLevel</th> <th>UndergradMajor</th> <th>EduOther</th> <th>OrgSize</th> <th>DevType</th> <th>YearsCode</th> <th>Age1stCode</th> <th>YearsCodePro</th> <th>CareerSat</th> <th>JobSat</th> <th>MgrIdiot</th> <th>MgrMoney</th> <th>MgrWant</th> <th>JobSeek</th> <th>LastHireDate</th> <th>LastInt</th> <th>FizzBuzz</th> <th>JobFactors</th> <th>ResumeUpdate</th> <th>CurrencySymbol</th> <th>CurrencyDesc</th> <th>CompTotal</th> <th>CompFreq</th> <th>ConvertedComp</th> <th>WorkWeekHrs</th> <th>WorkPlan</th> <th>WorkChallenge</th> <th>WorkRemote</th> <th>WorkLoc</th> <th>ImpSyn</th> <th>CodeRev</th> <th>CodeRevHrs</th> <th>UnitTests</th> <th>PurchaseHow</th> <th>PurchaseWhat</th> <th>LanguageWorkedWith</th> <th>LanguageDesireNextYear</th> <th>DatabaseWorkedWith</th> <th>DatabaseDesireNextYear</th> <th>PlatformWorkedWith</th> <th>PlatformDesireNextYear</th> <th>WebFrameWorkedWith</th> <th>WebFrameDesireNextYear</th> <th>MiscTechWorkedWith</th> <th>MiscTechDesireNextYear</th> <th>DevEnviron</th> <th>OpSys</th> <th>Containers</th> <th>BlockchainOrg</th> <th>BlockchainIs</th> <th>BetterLife</th> <th>ITperson</th> <th>OffOn</th> <th>SocialMedia</th> <th>Extraversion</th> <th>ScreenName</th> <th>SOVisit1st</th> <th>SOVisitFreq</th> <th>SOVisitTo</th> <th>SOFindAnswer</th> <th>SOTimeSaved</th> <th>SOHowMuchTime</th> <th>SOAccount</th> <th>SOPartFreq</th> <th>SOJobs</th> <th>EntTeams</th> <th>SOComm</th> <th>WelcomeChange</th> <th>SONewContent</th> <th>Age</th> <th>Gender</th> <th>Trans</th> <th>Sexuality</th> <th>Ethnicity</th> <th>Dependents</th> <th>SurveyLength</th> <th>SurveyEase</th> <th>filters</th> <th>String stuff</th>\n",
       "        </tr>\n",
       "    </thead>\n",
       "    <tbody>\n",
       "        <tr>\n",
       "            <td>57        </td> <td>I am not primarily a developer, but I write code sometim ...</td> <td>Yes     </td> <td>Never      </td> <td>OSS is, on average, of HIGHER quality than proprietary / ...</td> <td>Employed full-time</td> <td>France </td> <td>No     </td> <td>Master’s degree (MA, MS, M.Eng., MBA, etc.)</td> <td>A business discipline (ex. accounting, finance, marketing)</td> <td>Taken an online course in programming or software develo ...</td> <td>10,000 or more employees</td> <td>nan    </td> <td>2        </td> <td>29        </td> <td>Less than 1 year</td> <td>Very satisfied</td> <td>Very satisfied</td> <td>Not at all confident</td> <td>No      </td> <td>No     </td> <td>I am actively looking for a job</td> <td>NA - I am an independent contractor or self employed</td> <td>Interview with people in peer roles;Interview with peopl ...</td> <td>No      </td> <td>Financial performance or funding status of the company o ...</td> <td>Something else changed (education, award, media, etc.)</td> <td>EUR           </td> <td>European Euro</td> <td>85000    </td> <td>Yearly  </td> <td>97389        </td> <td>40         </td> <td>There's no schedule or spec; I work on what seems most i ...</td> <td>Lack of support from management;Meetings;Toxic work envi ...</td> <td>A few days each month</td> <td>Other place, such as a coworking space or cafe</td> <td>Far above average</td> <td>No     </td> <td>nan       </td> <td>No, but I think we should</td> <td>The CTO, CIO, or other management purchase new technolog ...</td> <td>I have little or no influence</td> <td>JavaScript;Python </td> <td>Elixir;JavaScript;Python;TypeScript</td> <td>Firebase;MongoDB  </td> <td>DynamoDB;Firebase;MongoDB;Redis</td> <td>Linux;Windows     </td> <td>AWS;Docker;Google Cloud Platform;Kubernetes;Linux;Raspbe ...</td> <td>React.js          </td> <td>React.js              </td> <td>Node.js           </td> <td>Node.js               </td> <td>Notepad++;Visual Studio Code</td> <td>Linux-based</td> <td>Development;Testing;Production</td> <td>Not at all   </td> <td>Useful across many domains and could change many aspects ...</td> <td>No        </td> <td>SIGH    </td> <td>What?</td> <td>WhatsApp   </td> <td>In real life (in person)</td> <td>UserID    </td> <td>2013      </td> <td>Daily or almost daily</td> <td>Find answers to specific questions</td> <td>6-10 times per week</td> <td>Stack Overflow was much faster</td> <td>60+ minutes  </td> <td>Yes      </td> <td>I have never participated in Q&A on Stack Overflow</td> <td>No, I knew that Stack Overflow had a job board but have  ...</td> <td>No, I've heard of them, but I am not part of a private Q ...</td> <td>No, not really</td> <td>Not applicable - I did not use Stack Overflow last year</td> <td>Tech articles written by other developers;Industry news  ...</td> <td>31  </td> <td>Man   </td> <td>No   </td> <td>Straight / Heterosexual</td> <td>nan      </td> <td>No        </td> <td>Appropriate in length</td> <td>Easy      </td> <td>False  </td> <td>False       </td>\n",
       "        </tr>\n",
       "    </tbody>\n",
       "</table>\n",
       "<p>... (1497 rows omitted)</p>"
      ],
      "text/plain": [
       "<IPython.core.display.HTML object>"
      ]
     },
     "metadata": {},
     "output_type": "display_data"
    }
   ],
   "source": [
    "age1stCode = fr.where('Age1stCode', isNotString).where('Age1stCode', isNotNan)\n",
    "age1stCode.show(1)"
   ]
  },
  {
   "cell_type": "code",
   "execution_count": 50,
   "metadata": {},
   "outputs": [
    {
     "data": {
      "text/plain": [
       "15.209612817089452"
      ]
     },
     "execution_count": 50,
     "metadata": {},
     "output_type": "execute_result"
    }
   ],
   "source": [
    "np.mean(age1stCode.column('Age1stCode').astype('float'))"
   ]
  },
  {
   "cell_type": "code",
   "execution_count": 56,
   "metadata": {},
   "outputs": [
    {
     "data": {
      "text/html": [
       "<table border=\"1\" class=\"dataframe\">\n",
       "    <thead>\n",
       "        <tr>\n",
       "            <th>Age</th>\n",
       "        </tr>\n",
       "    </thead>\n",
       "    <tbody>\n",
       "        <tr>\n",
       "            <td>31  </td>\n",
       "        </tr>\n",
       "    </tbody>\n",
       "</table>\n",
       "<p>... (1462 rows omitted)</p>"
      ],
      "text/plain": [
       "<IPython.core.display.HTML object>"
      ]
     },
     "metadata": {},
     "output_type": "display_data"
    }
   ],
   "source": [
    "age = fr.where('Age', isNotString).where('Age', isNotNan)\n",
    "age.select('Age').show(1)"
   ]
  },
  {
   "cell_type": "code",
   "execution_count": 58,
   "metadata": {},
   "outputs": [
    {
     "data": {
      "text/plain": [
       "31.017088174982913"
      ]
     },
     "execution_count": 58,
     "metadata": {},
     "output_type": "execute_result"
    }
   ],
   "source": [
    "np.mean(age.column('Age').astype('float'))"
   ]
  },
  {
   "cell_type": "code",
   "execution_count": null,
   "metadata": {},
   "outputs": [],
   "source": []
  },
  {
   "cell_type": "code",
   "execution_count": null,
   "metadata": {},
   "outputs": [],
   "source": []
  },
  {
   "cell_type": "code",
   "execution_count": null,
   "metadata": {},
   "outputs": [],
   "source": []
  },
  {
   "cell_type": "markdown",
   "metadata": {},
   "source": [
    "# 2) Display a scatter plot of TotalComposation vs years of code"
   ]
  },
  {
   "cell_type": "code",
   "execution_count": null,
   "metadata": {},
   "outputs": [],
   "source": []
  },
  {
   "cell_type": "code",
   "execution_count": null,
   "metadata": {},
   "outputs": [],
   "source": []
  },
  {
   "cell_type": "code",
   "execution_count": null,
   "metadata": {},
   "outputs": [],
   "source": []
  },
  {
   "cell_type": "code",
   "execution_count": null,
   "metadata": {},
   "outputs": [],
   "source": []
  }
 ],
 "metadata": {
  "kernelspec": {
   "display_name": "Python 3",
   "language": "python",
   "name": "python3"
  },
  "language_info": {
   "codemirror_mode": {
    "name": "ipython",
    "version": 3
   },
   "file_extension": ".py",
   "mimetype": "text/x-python",
   "name": "python",
   "nbconvert_exporter": "python",
   "pygments_lexer": "ipython3",
   "version": "3.6.7"
  }
 },
 "nbformat": 4,
 "nbformat_minor": 4
}
