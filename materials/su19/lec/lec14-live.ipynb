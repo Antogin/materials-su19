{
 "cells": [
  {
   "cell_type": "code",
   "execution_count": null,
   "metadata": {},
   "outputs": [],
   "source": [
    "from datascience import *\n",
    "import numpy as np\n",
    "\n",
    "%matplotlib inline\n",
    "import matplotlib.pyplot as plots\n",
    "plots.style.use('fivethirtyeight')"
   ]
  },
  {
   "cell_type": "markdown",
   "metadata": {},
   "source": [
    "## Lecture 14 ##"
   ]
  },
  {
   "cell_type": "markdown",
   "metadata": {},
   "source": [
    "## Random Sampling ##"
   ]
  },
  {
   "cell_type": "code",
   "execution_count": null,
   "metadata": {},
   "outputs": [],
   "source": [
    "united = Table.read_table('united_summer2015.csv')\n",
    "united_bins = np.arange(-50,250,10)\n",
    "united.hist('Delay', bins=united_bins)"
   ]
  },
  {
   "cell_type": "code",
   "execution_count": null,
   "metadata": {},
   "outputs": [],
   "source": [
    "#two deterministic Sample - no randomness\n",
    "deterministic = united.where(\"Date\", are.equal_to(\"7/4/15\"))\n",
    "deterministic.hist('Delay', bins=united_bins)\n",
    "\n",
    "deterministic2 = united.where('Delay', are.below(0))\n",
    "deterministic2.hist('Delay', bins=united_bins)"
   ]
  },
  {
   "cell_type": "code",
   "execution_count": null,
   "metadata": {},
   "outputs": [],
   "source": [
    "#Random Samples\n",
    "united.sample(1000).hist('Delay', bins=united_bins)\n",
    "united.sample(1000, with_replacement = False).hist('Delay', bins=united_bins)"
   ]
  },
  {
   "cell_type": "markdown",
   "metadata": {},
   "source": [
    "## Distributions ##"
   ]
  },
  {
   "cell_type": "code",
   "execution_count": null,
   "metadata": {},
   "outputs": [],
   "source": [
    "die = Table().with_column('Face', np.arange(1, 7))\n",
    "die"
   ]
  },
  {
   "cell_type": "code",
   "execution_count": null,
   "metadata": {},
   "outputs": [],
   "source": [
    "die_bins = np.arange(0.5,7,1) #to make these histograms pretty"
   ]
  },
  {
   "cell_type": "code",
   "execution_count": null,
   "metadata": {},
   "outputs": [],
   "source": [
    "#Probability Distribution of the result of rolling a die\n",
    "die.hist('Face',bins=die_bins)"
   ]
  },
  {
   "cell_type": "code",
   "execution_count": null,
   "metadata": {},
   "outputs": [],
   "source": [
    "#rolling a die = sampling from the probability distribution of the faces\n",
    "die.sample(10).hist(bins=die_bins)"
   ]
  },
  {
   "cell_type": "code",
   "execution_count": null,
   "metadata": {},
   "outputs": [],
   "source": [
    "die.sample(100).hist(bins=die_bins)"
   ]
  },
  {
   "cell_type": "code",
   "execution_count": null,
   "metadata": {},
   "outputs": [],
   "source": [
    "die.sample(1000).hist(bins=die_bins)"
   ]
  },
  {
   "cell_type": "code",
   "execution_count": null,
   "metadata": {},
   "outputs": [],
   "source": [
    "die.sample(50000).hist(bins=die_bins)"
   ]
  },
  {
   "cell_type": "markdown",
   "metadata": {},
   "source": [
    "## Large Random Samples ##"
   ]
  },
  {
   "cell_type": "code",
   "execution_count": null,
   "metadata": {},
   "outputs": [],
   "source": [
    "#original data\n",
    "united.hist('Delay', bins=united_bins)"
   ]
  },
  {
   "cell_type": "code",
   "execution_count": null,
   "metadata": {},
   "outputs": [],
   "source": [
    "united.sample(10).hist('Delay', bins=united_bins)\n",
    "united.sample(100).hist('Delay', bins=united_bins)\n",
    "united.sample(500).hist('Delay', bins=united_bins)\n",
    "united.sample(5000).hist('Delay', bins=united_bins)\n"
   ]
  },
  {
   "cell_type": "markdown",
   "metadata": {},
   "source": [
    "## Distributions of Statistics ##"
   ]
  },
  {
   "cell_type": "code",
   "execution_count": null,
   "metadata": {},
   "outputs": [],
   "source": [
    "#statistic: proportion of 6s in 100 rolls of a die\n",
    "hundred_rolls = die.sample(100)\n",
    "hundred_rolls"
   ]
  },
  {
   "cell_type": "code",
   "execution_count": null,
   "metadata": {},
   "outputs": [],
   "source": [
    "proportion_sixes = np.count_nonzero(hundred_rolls.column('Face') == 6)/hundred_rolls.num_rows\n",
    "proportion_sixes"
   ]
  },
  {
   "cell_type": "code",
   "execution_count": null,
   "metadata": {},
   "outputs": [],
   "source": [
    "#let's not think about the distribution of the rolls\n",
    "#hundred_rolls.hist(bins=die_bins)\n",
    "\n",
    "#instead, we write a function that calculates a statistic from 100 rolls\n",
    "def prop_sixes():\n",
    "    hundred_rolls = die.sample(100)\n",
    "    proportion_sixes = np.count_nonzero(hundred_rolls.column('Face') == 6)/hundred_rolls.num_rows\n",
    "    return proportion_sixes"
   ]
  },
  {
   "cell_type": "code",
   "execution_count": null,
   "metadata": {},
   "outputs": [],
   "source": [
    "prop_sixes() #run this cell a bunch of times"
   ]
  },
  {
   "cell_type": "code",
   "execution_count": null,
   "metadata": {},
   "outputs": [],
   "source": [
    "# make python run this for us lots of times\n",
    "simulated_proportions = make_array()\n",
    "for ...:\n",
    "    one_result = ...\n",
    "    ..."
   ]
  },
  {
   "cell_type": "code",
   "execution_count": null,
   "metadata": {},
   "outputs": [],
   "source": [
    "Table().with_column('Simulated Proportions', simulated_proportions).hist('Simulated Proportions', bins=np.arange(0.05,0.3,0.03))"
   ]
  },
  {
   "cell_type": "code",
   "execution_count": null,
   "metadata": {},
   "outputs": [],
   "source": []
  },
  {
   "cell_type": "code",
   "execution_count": null,
   "metadata": {},
   "outputs": [],
   "source": []
  },
  {
   "cell_type": "code",
   "execution_count": null,
   "metadata": {},
   "outputs": [],
   "source": []
  },
  {
   "cell_type": "code",
   "execution_count": null,
   "metadata": {},
   "outputs": [],
   "source": []
  },
  {
   "cell_type": "code",
   "execution_count": null,
   "metadata": {},
   "outputs": [],
   "source": [
    "#this time, 15000 repetitions\n",
    "#so we should be even closer to the theoretical distribution of this statistic\n",
    "simulated_proportions2 = make_array()\n",
    "for i in np.arange(15000):\n",
    "    one_result = prop_sixes()\n",
    "    simulated_proportions2 = np.append(simulated_proportions2, one_result)\n",
    "Table().with_column('Simulated Proportions', simulated_proportions2).hist('Simulated Proportions', bins=np.arange(0.05,0.3,0.03))\n"
   ]
  },
  {
   "cell_type": "markdown",
   "metadata": {},
   "source": [
    "### A different statistic ###"
   ]
  },
  {
   "cell_type": "code",
   "execution_count": null,
   "metadata": {},
   "outputs": [],
   "source": [
    "#a weird statistic: absolute value of difference between mean and median in 100 rolls\n",
    "def simulate_and_get_weird_stat():\n",
    "    hundred_rolls = die.sample(100)\n",
    "    one_stat = ...\n",
    "    return ...\n"
   ]
  },
  {
   "cell_type": "code",
   "execution_count": null,
   "metadata": {},
   "outputs": [],
   "source": [
    "stats = make_array()\n",
    "for i in np.arange(5000):\n",
    "    one_result = simulate_and_get_weird_stat()\n",
    "    stats = np.append(stats, one_result)\n",
    "\n",
    "Table().with_column('Simulated Stats', stats).hist('Simulated Stats')"
   ]
  },
  {
   "cell_type": "markdown",
   "metadata": {},
   "source": [
    "### Another statistic distribution - back to flights ###"
   ]
  },
  {
   "cell_type": "code",
   "execution_count": null,
   "metadata": {},
   "outputs": [],
   "source": [
    "def flight_sample_mean():\n",
    "    sample = united.sample(500)\n",
    "    return ..."
   ]
  },
  {
   "cell_type": "code",
   "execution_count": null,
   "metadata": {},
   "outputs": [],
   "source": [
    "means = make_array()\n",
    "for i in np.arange(1000):\n",
    "    one_sample_mean = flight_sample_mean()\n",
    "    means = np.append(means, one_sample_mean)\n",
    "    "
   ]
  },
  {
   "cell_type": "code",
   "execution_count": null,
   "metadata": {},
   "outputs": [],
   "source": [
    "Table().with_column('Sample Means', means).hist('Sample Means', bins=np.arange(11,23,1))"
   ]
  },
  {
   "cell_type": "markdown",
   "metadata": {},
   "source": [
    "### Gary's Model ###"
   ]
  },
  {
   "cell_type": "code",
   "execution_count": null,
   "metadata": {},
   "outputs": [],
   "source": [
    "#question: what's the distribution of the # of heads in 10 flips of a fair coin?\n",
    "\n",
    "#experiment: 10 flips of a fair coin\n",
    "\n",
    "#statistic of interest: number of heads\n",
    "\n",
    "#strategy: approximate the probability distribution by simulating the experiment lots of times"
   ]
  },
  {
   "cell_type": "code",
   "execution_count": null,
   "metadata": {},
   "outputs": [],
   "source": [
    "def ten_flips():\n",
    "    '''a function that returns the number of heads in ten flips of a fair coin'''\n",
    "    model = make_array(0.5, 0.5)\n",
    "    ten_flips_proportions = sample_proportions(10, model) #will explain tomorrow\n",
    "    num_heads = ten_flips_proportions.item(0)*10\n",
    "    return num_heads"
   ]
  },
  {
   "cell_type": "code",
   "execution_count": null,
   "metadata": {},
   "outputs": [],
   "source": [
    "repetitions = 500 #does this count as \"lots of times?\"\n",
    "\n",
    "coin_stats = make_array()\n",
    "\n",
    "for i in np.arange(repetitions):\n",
    "    one_statistic = ten_flips()\n",
    "    coin_stats = np.append(coin_stats, one_statistic)\n",
    "    \n",
    "Table().with_column('Coin Statistics', coin_stats).hist()"
   ]
  },
  {
   "cell_type": "code",
   "execution_count": null,
   "metadata": {},
   "outputs": [],
   "source": []
  },
  {
   "cell_type": "code",
   "execution_count": null,
   "metadata": {},
   "outputs": [],
   "source": []
  },
  {
   "cell_type": "code",
   "execution_count": null,
   "metadata": {},
   "outputs": [],
   "source": []
  }
 ],
 "metadata": {
  "anaconda-cloud": {},
  "kernelspec": {
   "display_name": "Python (data8)",
   "language": "python",
   "name": "data8"
  },
  "language_info": {
   "codemirror_mode": {
    "name": "ipython",
    "version": 3
   },
   "file_extension": ".py",
   "mimetype": "text/x-python",
   "name": "python",
   "nbconvert_exporter": "python",
   "pygments_lexer": "ipython3",
   "version": "3.7.3"
  }
 },
 "nbformat": 4,
 "nbformat_minor": 1
}
