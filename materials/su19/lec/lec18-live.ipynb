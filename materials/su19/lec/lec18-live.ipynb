{
 "cells": [
  {
   "cell_type": "code",
   "execution_count": 1,
   "metadata": {},
   "outputs": [],
   "source": [
    "from datascience import *\n",
    "import numpy as np\n",
    "\n",
    "%matplotlib inline\n",
    "import matplotlib.pyplot as plots\n",
    "plots.style.use('fivethirtyeight')"
   ]
  },
  {
   "cell_type": "markdown",
   "metadata": {},
   "source": [
    "## Probability Practice ##\n",
    "This is from the Fall 2018 **Final** question 4\n",
    "(we are using a question from the final because it has some conditional probability)"
   ]
  },
  {
   "cell_type": "code",
   "execution_count": null,
   "metadata": {},
   "outputs": [],
   "source": [
    "# Q4a\n",
    "# You buy five pints from Game of Cones. What is the probability that they are all vanilla?\n"
   ]
  },
  {
   "cell_type": "code",
   "execution_count": null,
   "metadata": {},
   "outputs": [],
   "source": [
    "# Q4b \n",
    "# You buy five pints from Game of Cones. What is the probability that they are all the same flavor?"
   ]
  },
  {
   "cell_type": "code",
   "execution_count": null,
   "metadata": {},
   "outputs": [],
   "source": [
    "# Q4c\n",
    "# Your roommate randomly picks one shop (each shop is equally likely to be chosen) and buys you\n",
    "# a pint. What is the probability that it is raspberry flavored?\n",
    "\n"
   ]
  },
  {
   "cell_type": "code",
   "execution_count": null,
   "metadata": {},
   "outputs": [],
   "source": [
    "# Q4d\n",
    "# Your roommate randomly picks one shop (each shop is equally likely to be chosen) and buys you\n",
    "# a pint. If the pint was vanilla flavored, what is the probability they went to Game of Cones?"
   ]
  },
  {
   "cell_type": "code",
   "execution_count": null,
   "metadata": {},
   "outputs": [],
   "source": [
    "# Q4e\n",
    "# An ice cream researcher decides that for an entire semester, they’ll buy one pint every weekday. Because of\n",
    "# their schedule, they go to Game of Cones three days a week and Sundae Night Live two days a week.\n",
    "# The researcher asks their roommates for help eating the ice cream on a randomly chosen weekday,\n",
    "# but their roommates hate anything maple flavored. What is the probability that day’s pint is not maple\n",
    "# flavored?"
   ]
  },
  {
   "cell_type": "code",
   "execution_count": null,
   "metadata": {},
   "outputs": [],
   "source": []
  },
  {
   "cell_type": "code",
   "execution_count": null,
   "metadata": {},
   "outputs": [],
   "source": []
  }
 ],
 "metadata": {
  "kernelspec": {
   "display_name": "Python 3",
   "language": "python",
   "name": "python3"
  },
  "language_info": {
   "codemirror_mode": {
    "name": "ipython",
    "version": 3
   },
   "file_extension": ".py",
   "mimetype": "text/x-python",
   "name": "python",
   "nbconvert_exporter": "python",
   "pygments_lexer": "ipython3",
   "version": "3.6.5"
  }
 },
 "nbformat": 4,
 "nbformat_minor": 2
}
