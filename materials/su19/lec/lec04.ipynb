{
 "cells": [
  {
   "cell_type": "code",
   "execution_count": 1,
   "metadata": {},
   "outputs": [],
   "source": [
    "from datascience import *\n",
    "import numpy as np\n",
    "\n",
    "nba = Table.read_table('nba_salaries.csv').relabeled(3, 'SALARY')\n",
    "debate = Table.read_table('debate.csv').sort('Candidate')"
   ]
  },
  {
   "cell_type": "markdown",
   "metadata": {},
   "source": [
    "## Review ##"
   ]
  },
  {
   "cell_type": "code",
   "execution_count": 2,
   "metadata": {},
   "outputs": [
    {
     "data": {
      "text/html": [
       "<table border=\"1\" class=\"dataframe\">\n",
       "    <thead>\n",
       "        <tr>\n",
       "            <th>Candidate</th> <th>Minutes Spoken</th> <th>Words Spoken</th> <th>Title</th>\n",
       "        </tr>\n",
       "    </thead>\n",
       "    <tbody>\n",
       "        <tr>\n",
       "            <td>Amy Klobuchar   </td> <td>8.5           </td> <td>1,614       </td> <td>Senator       </td>\n",
       "        </tr>\n",
       "        <tr>\n",
       "            <td>Beto O'Rourke   </td> <td>10.3          </td> <td>1,932       </td> <td>Representative</td>\n",
       "        </tr>\n",
       "        <tr>\n",
       "            <td>Bill de Blasio  </td> <td>5.6           </td> <td>881         </td> <td>Mayor         </td>\n",
       "        </tr>\n",
       "        <tr>\n",
       "            <td>Cory Booker     </td> <td>10.9          </td> <td>2,181       </td> <td>Senator       </td>\n",
       "        </tr>\n",
       "        <tr>\n",
       "            <td>Elizabeth Warren</td> <td>9.3           </td> <td>1,637       </td> <td>Senator       </td>\n",
       "        </tr>\n",
       "        <tr>\n",
       "            <td>Jay Inslee      </td> <td>5             </td> <td>875         </td> <td>Governor      </td>\n",
       "        </tr>\n",
       "        <tr>\n",
       "            <td>John Delaney    </td> <td>6.6           </td> <td>1,060       </td> <td>Representative</td>\n",
       "        </tr>\n",
       "        <tr>\n",
       "            <td>Julián Castro   </td> <td>8.8           </td> <td>1,588       </td> <td>Secretary     </td>\n",
       "        </tr>\n",
       "        <tr>\n",
       "            <td>Tim Ryan        </td> <td>7.7           </td> <td>1,383       </td> <td>Representative</td>\n",
       "        </tr>\n",
       "        <tr>\n",
       "            <td>Tulsi Gabbard   </td> <td>6.6           </td> <td>1,243       </td> <td>Representative</td>\n",
       "        </tr>\n",
       "    </tbody>\n",
       "</table>"
      ],
      "text/plain": [
       "Candidate        | Minutes Spoken | Words Spoken | Title\n",
       "Amy Klobuchar    | 8.5            | 1,614        | Senator\n",
       "Beto O'Rourke    | 10.3           | 1,932        | Representative\n",
       "Bill de Blasio   | 5.6            | 881          | Mayor\n",
       "Cory Booker      | 10.9           | 2,181        | Senator\n",
       "Elizabeth Warren | 9.3            | 1,637        | Senator\n",
       "Jay Inslee       | 5              | 875          | Governor\n",
       "John Delaney     | 6.6            | 1,060        | Representative\n",
       "Julián Castro    | 8.8            | 1,588        | Secretary\n",
       "Tim Ryan         | 7.7            | 1,383        | Representative\n",
       "Tulsi Gabbard    | 6.6            | 1,243        | Representative"
      ]
     },
     "execution_count": 2,
     "metadata": {},
     "output_type": "execute_result"
    }
   ],
   "source": [
    "debate"
   ]
  },
  {
   "cell_type": "code",
   "execution_count": 3,
   "metadata": {},
   "outputs": [
    {
     "data": {
      "text/html": [
       "<table border=\"1\" class=\"dataframe\">\n",
       "    <thead>\n",
       "        <tr>\n",
       "            <th>Candidate</th> <th>Words Spoken</th>\n",
       "        </tr>\n",
       "    </thead>\n",
       "    <tbody>\n",
       "        <tr>\n",
       "            <td>Amy Klobuchar   </td> <td>1,614       </td>\n",
       "        </tr>\n",
       "        <tr>\n",
       "            <td>Beto O'Rourke   </td> <td>1,932       </td>\n",
       "        </tr>\n",
       "        <tr>\n",
       "            <td>Bill de Blasio  </td> <td>881         </td>\n",
       "        </tr>\n",
       "        <tr>\n",
       "            <td>Cory Booker     </td> <td>2,181       </td>\n",
       "        </tr>\n",
       "        <tr>\n",
       "            <td>Elizabeth Warren</td> <td>1,637       </td>\n",
       "        </tr>\n",
       "        <tr>\n",
       "            <td>Jay Inslee      </td> <td>875         </td>\n",
       "        </tr>\n",
       "        <tr>\n",
       "            <td>John Delaney    </td> <td>1,060       </td>\n",
       "        </tr>\n",
       "        <tr>\n",
       "            <td>Julián Castro   </td> <td>1,588       </td>\n",
       "        </tr>\n",
       "        <tr>\n",
       "            <td>Tim Ryan        </td> <td>1,383       </td>\n",
       "        </tr>\n",
       "        <tr>\n",
       "            <td>Tulsi Gabbard   </td> <td>1,243       </td>\n",
       "        </tr>\n",
       "    </tbody>\n",
       "</table>"
      ],
      "text/plain": [
       "Candidate        | Words Spoken\n",
       "Amy Klobuchar    | 1,614\n",
       "Beto O'Rourke    | 1,932\n",
       "Bill de Blasio   | 881\n",
       "Cory Booker      | 2,181\n",
       "Elizabeth Warren | 1,637\n",
       "Jay Inslee       | 875\n",
       "John Delaney     | 1,060\n",
       "Julián Castro    | 1,588\n",
       "Tim Ryan         | 1,383\n",
       "Tulsi Gabbard    | 1,243"
      ]
     },
     "execution_count": 3,
     "metadata": {},
     "output_type": "execute_result"
    }
   ],
   "source": [
    "debate.select('Candidate', \"Words Spoken\")"
   ]
  },
  {
   "cell_type": "code",
   "execution_count": 4,
   "metadata": {},
   "outputs": [
    {
     "data": {
      "text/html": [
       "<table border=\"1\" class=\"dataframe\">\n",
       "    <thead>\n",
       "        <tr>\n",
       "            <th>Candidate</th> <th>Minutes Spoken</th> <th>Words Spoken</th>\n",
       "        </tr>\n",
       "    </thead>\n",
       "    <tbody>\n",
       "        <tr>\n",
       "            <td>Amy Klobuchar   </td> <td>8.5           </td> <td>1,614       </td>\n",
       "        </tr>\n",
       "        <tr>\n",
       "            <td>Beto O'Rourke   </td> <td>10.3          </td> <td>1,932       </td>\n",
       "        </tr>\n",
       "        <tr>\n",
       "            <td>Bill de Blasio  </td> <td>5.6           </td> <td>881         </td>\n",
       "        </tr>\n",
       "        <tr>\n",
       "            <td>Cory Booker     </td> <td>10.9          </td> <td>2,181       </td>\n",
       "        </tr>\n",
       "        <tr>\n",
       "            <td>Elizabeth Warren</td> <td>9.3           </td> <td>1,637       </td>\n",
       "        </tr>\n",
       "        <tr>\n",
       "            <td>Jay Inslee      </td> <td>5             </td> <td>875         </td>\n",
       "        </tr>\n",
       "        <tr>\n",
       "            <td>John Delaney    </td> <td>6.6           </td> <td>1,060       </td>\n",
       "        </tr>\n",
       "        <tr>\n",
       "            <td>Julián Castro   </td> <td>8.8           </td> <td>1,588       </td>\n",
       "        </tr>\n",
       "        <tr>\n",
       "            <td>Tim Ryan        </td> <td>7.7           </td> <td>1,383       </td>\n",
       "        </tr>\n",
       "        <tr>\n",
       "            <td>Tulsi Gabbard   </td> <td>6.6           </td> <td>1,243       </td>\n",
       "        </tr>\n",
       "    </tbody>\n",
       "</table>"
      ],
      "text/plain": [
       "Candidate        | Minutes Spoken | Words Spoken\n",
       "Amy Klobuchar    | 8.5            | 1,614\n",
       "Beto O'Rourke    | 10.3           | 1,932\n",
       "Bill de Blasio   | 5.6            | 881\n",
       "Cory Booker      | 10.9           | 2,181\n",
       "Elizabeth Warren | 9.3            | 1,637\n",
       "Jay Inslee       | 5              | 875\n",
       "John Delaney     | 6.6            | 1,060\n",
       "Julián Castro    | 8.8            | 1,588\n",
       "Tim Ryan         | 7.7            | 1,383\n",
       "Tulsi Gabbard    | 6.6            | 1,243"
      ]
     },
     "execution_count": 4,
     "metadata": {},
     "output_type": "execute_result"
    }
   ],
   "source": [
    "debate.drop(\"Title\")"
   ]
  },
  {
   "cell_type": "code",
   "execution_count": 6,
   "metadata": {},
   "outputs": [
    {
     "data": {
      "text/html": [
       "<table border=\"1\" class=\"dataframe\">\n",
       "    <thead>\n",
       "        <tr>\n",
       "            <th>Candidate</th> <th>Minutes Spoken</th> <th>Words Spoken</th> <th>Title</th>\n",
       "        </tr>\n",
       "    </thead>\n",
       "    <tbody>\n",
       "        <tr>\n",
       "            <td>Cory Booker     </td> <td>10.9          </td> <td>2,181       </td> <td>Senator       </td>\n",
       "        </tr>\n",
       "        <tr>\n",
       "            <td>Beto O'Rourke   </td> <td>10.3          </td> <td>1,932       </td> <td>Representative</td>\n",
       "        </tr>\n",
       "        <tr>\n",
       "            <td>Elizabeth Warren</td> <td>9.3           </td> <td>1,637       </td> <td>Senator       </td>\n",
       "        </tr>\n",
       "        <tr>\n",
       "            <td>Julián Castro   </td> <td>8.8           </td> <td>1,588       </td> <td>Secretary     </td>\n",
       "        </tr>\n",
       "        <tr>\n",
       "            <td>Amy Klobuchar   </td> <td>8.5           </td> <td>1,614       </td> <td>Senator       </td>\n",
       "        </tr>\n",
       "        <tr>\n",
       "            <td>Tim Ryan        </td> <td>7.7           </td> <td>1,383       </td> <td>Representative</td>\n",
       "        </tr>\n",
       "        <tr>\n",
       "            <td>Tulsi Gabbard   </td> <td>6.6           </td> <td>1,243       </td> <td>Representative</td>\n",
       "        </tr>\n",
       "        <tr>\n",
       "            <td>John Delaney    </td> <td>6.6           </td> <td>1,060       </td> <td>Representative</td>\n",
       "        </tr>\n",
       "        <tr>\n",
       "            <td>Bill de Blasio  </td> <td>5.6           </td> <td>881         </td> <td>Mayor         </td>\n",
       "        </tr>\n",
       "        <tr>\n",
       "            <td>Jay Inslee      </td> <td>5             </td> <td>875         </td> <td>Governor      </td>\n",
       "        </tr>\n",
       "    </tbody>\n",
       "</table>"
      ],
      "text/plain": [
       "Candidate        | Minutes Spoken | Words Spoken | Title\n",
       "Cory Booker      | 10.9           | 2,181        | Senator\n",
       "Beto O'Rourke    | 10.3           | 1,932        | Representative\n",
       "Elizabeth Warren | 9.3            | 1,637        | Senator\n",
       "Julián Castro    | 8.8            | 1,588        | Secretary\n",
       "Amy Klobuchar    | 8.5            | 1,614        | Senator\n",
       "Tim Ryan         | 7.7            | 1,383        | Representative\n",
       "Tulsi Gabbard    | 6.6            | 1,243        | Representative\n",
       "John Delaney     | 6.6            | 1,060        | Representative\n",
       "Bill de Blasio   | 5.6            | 881          | Mayor\n",
       "Jay Inslee       | 5              | 875          | Governor"
      ]
     },
     "execution_count": 6,
     "metadata": {},
     "output_type": "execute_result"
    }
   ],
   "source": [
    "debate.sort('Minutes Spoken', descending = True)"
   ]
  },
  {
   "cell_type": "code",
   "execution_count": 7,
   "metadata": {},
   "outputs": [
    {
     "data": {
      "text/html": [
       "<table border=\"1\" class=\"dataframe\">\n",
       "    <thead>\n",
       "        <tr>\n",
       "            <th>Candidate</th> <th>Minutes Spoken</th> <th>Words Spoken</th> <th>Title</th>\n",
       "        </tr>\n",
       "    </thead>\n",
       "    <tbody>\n",
       "        <tr>\n",
       "            <td>Amy Klobuchar   </td> <td>8.5           </td> <td>1,614       </td> <td>Senator</td>\n",
       "        </tr>\n",
       "        <tr>\n",
       "            <td>Cory Booker     </td> <td>10.9          </td> <td>2,181       </td> <td>Senator</td>\n",
       "        </tr>\n",
       "        <tr>\n",
       "            <td>Elizabeth Warren</td> <td>9.3           </td> <td>1,637       </td> <td>Senator</td>\n",
       "        </tr>\n",
       "    </tbody>\n",
       "</table>"
      ],
      "text/plain": [
       "Candidate        | Minutes Spoken | Words Spoken | Title\n",
       "Amy Klobuchar    | 8.5            | 1,614        | Senator\n",
       "Cory Booker      | 10.9           | 2,181        | Senator\n",
       "Elizabeth Warren | 9.3            | 1,637        | Senator"
      ]
     },
     "execution_count": 7,
     "metadata": {},
     "output_type": "execute_result"
    }
   ],
   "source": [
    "debate.where('Title', are.equal_to('Senator'))"
   ]
  },
  {
   "cell_type": "code",
   "execution_count": 11,
   "metadata": {},
   "outputs": [
    {
     "data": {
      "text/html": [
       "<table border=\"1\" class=\"dataframe\">\n",
       "    <thead>\n",
       "        <tr>\n",
       "            <th>Candidate</th> <th>Minutes Spoken</th> <th>Words Spoken</th> <th>Title</th>\n",
       "        </tr>\n",
       "    </thead>\n",
       "    <tbody>\n",
       "        <tr>\n",
       "            <td>Bill de Blasio</td> <td>5.6           </td> <td>881         </td> <td>Mayor   </td>\n",
       "        </tr>\n",
       "        <tr>\n",
       "            <td>Jay Inslee    </td> <td>5             </td> <td>875         </td> <td>Governor</td>\n",
       "        </tr>\n",
       "    </tbody>\n",
       "</table>"
      ],
      "text/plain": [
       "Candidate      | Minutes Spoken | Words Spoken | Title\n",
       "Bill de Blasio | 5.6            | 881          | Mayor\n",
       "Jay Inslee     | 5              | 875          | Governor"
      ]
     },
     "execution_count": 11,
     "metadata": {},
     "output_type": "execute_result"
    }
   ],
   "source": [
    "low_speakers = debate.where('Minutes Spoken', are.below(6))\n",
    "low_speakers"
   ]
  },
  {
   "cell_type": "code",
   "execution_count": 9,
   "metadata": {},
   "outputs": [
    {
     "data": {
      "text/html": [
       "<table border=\"1\" class=\"dataframe\">\n",
       "    <thead>\n",
       "        <tr>\n",
       "            <th>Candidate</th> <th>Minutes Spoken</th> <th>Words Spoken</th> <th>Title</th>\n",
       "        </tr>\n",
       "    </thead>\n",
       "    <tbody>\n",
       "        <tr>\n",
       "            <td>Amy Klobuchar   </td> <td>8.5           </td> <td>1,614       </td> <td>Senator       </td>\n",
       "        </tr>\n",
       "        <tr>\n",
       "            <td>Beto O'Rourke   </td> <td>10.3          </td> <td>1,932       </td> <td>Representative</td>\n",
       "        </tr>\n",
       "        <tr>\n",
       "            <td>Bill de Blasio  </td> <td>5.6           </td> <td>881         </td> <td>Mayor         </td>\n",
       "        </tr>\n",
       "        <tr>\n",
       "            <td>Cory Booker     </td> <td>10.9          </td> <td>2,181       </td> <td>Senator       </td>\n",
       "        </tr>\n",
       "        <tr>\n",
       "            <td>Elizabeth Warren</td> <td>9.3           </td> <td>1,637       </td> <td>Senator       </td>\n",
       "        </tr>\n",
       "        <tr>\n",
       "            <td>Jay Inslee      </td> <td>5             </td> <td>875         </td> <td>Governor      </td>\n",
       "        </tr>\n",
       "        <tr>\n",
       "            <td>John Delaney    </td> <td>6.6           </td> <td>1,060       </td> <td>Representative</td>\n",
       "        </tr>\n",
       "        <tr>\n",
       "            <td>Julián Castro   </td> <td>8.8           </td> <td>1,588       </td> <td>Secretary     </td>\n",
       "        </tr>\n",
       "        <tr>\n",
       "            <td>Tim Ryan        </td> <td>7.7           </td> <td>1,383       </td> <td>Representative</td>\n",
       "        </tr>\n",
       "        <tr>\n",
       "            <td>Tulsi Gabbard   </td> <td>6.6           </td> <td>1,243       </td> <td>Representative</td>\n",
       "        </tr>\n",
       "    </tbody>\n",
       "</table>"
      ],
      "text/plain": [
       "Candidate        | Minutes Spoken | Words Spoken | Title\n",
       "Amy Klobuchar    | 8.5            | 1,614        | Senator\n",
       "Beto O'Rourke    | 10.3           | 1,932        | Representative\n",
       "Bill de Blasio   | 5.6            | 881          | Mayor\n",
       "Cory Booker      | 10.9           | 2,181        | Senator\n",
       "Elizabeth Warren | 9.3            | 1,637        | Senator\n",
       "Jay Inslee       | 5              | 875          | Governor\n",
       "John Delaney     | 6.6            | 1,060        | Representative\n",
       "Julián Castro    | 8.8            | 1,588        | Secretary\n",
       "Tim Ryan         | 7.7            | 1,383        | Representative\n",
       "Tulsi Gabbard    | 6.6            | 1,243        | Representative"
      ]
     },
     "execution_count": 9,
     "metadata": {},
     "output_type": "execute_result"
    }
   ],
   "source": [
    "debate"
   ]
  },
  {
   "cell_type": "markdown",
   "metadata": {},
   "source": [
    "## Numbers ##"
   ]
  },
  {
   "cell_type": "code",
   "execution_count": 12,
   "metadata": {},
   "outputs": [
    {
     "data": {
      "text/plain": [
       "30"
      ]
     },
     "execution_count": 12,
     "metadata": {},
     "output_type": "execute_result"
    }
   ],
   "source": [
    "30 #int"
   ]
  },
  {
   "cell_type": "code",
   "execution_count": 13,
   "metadata": {},
   "outputs": [
    {
     "data": {
      "text/plain": [
       "30.0"
      ]
     },
     "execution_count": 13,
     "metadata": {},
     "output_type": "execute_result"
    }
   ],
   "source": [
    "30.0 #float"
   ]
  },
  {
   "cell_type": "code",
   "execution_count": 14,
   "metadata": {},
   "outputs": [
    {
     "data": {
      "text/plain": [
       "900"
      ]
     },
     "execution_count": 14,
     "metadata": {},
     "output_type": "execute_result"
    }
   ],
   "source": [
    "30 * 30"
   ]
  },
  {
   "cell_type": "code",
   "execution_count": 16,
   "metadata": {},
   "outputs": [
    {
     "data": {
      "text/plain": [
       "91.5"
      ]
     },
     "execution_count": 16,
     "metadata": {},
     "output_type": "execute_result"
    }
   ],
   "source": [
    "30.5 * 3"
   ]
  },
  {
   "cell_type": "code",
   "execution_count": 17,
   "metadata": {},
   "outputs": [
    {
     "data": {
      "text/plain": [
       "2.9411764705882355"
      ]
     },
     "execution_count": 17,
     "metadata": {},
     "output_type": "execute_result"
    }
   ],
   "source": [
    "50/17"
   ]
  },
  {
   "cell_type": "code",
   "execution_count": 18,
   "metadata": {},
   "outputs": [
    {
     "data": {
      "text/plain": [
       "5.0"
      ]
     },
     "execution_count": 18,
     "metadata": {},
     "output_type": "execute_result"
    }
   ],
   "source": [
    "50/10"
   ]
  },
  {
   "cell_type": "code",
   "execution_count": 19,
   "metadata": {},
   "outputs": [
    {
     "data": {
      "text/plain": [
       "1000"
      ]
     },
     "execution_count": 19,
     "metadata": {},
     "output_type": "execute_result"
    }
   ],
   "source": [
    "10 ** 3"
   ]
  },
  {
   "cell_type": "code",
   "execution_count": 20,
   "metadata": {},
   "outputs": [
    {
     "data": {
      "text/plain": [
       "1000.0"
      ]
     },
     "execution_count": 20,
     "metadata": {},
     "output_type": "execute_result"
    }
   ],
   "source": [
    "10 ** 3.0"
   ]
  },
  {
   "cell_type": "code",
   "execution_count": 21,
   "metadata": {},
   "outputs": [
    {
     "data": {
      "text/plain": [
       "3.1622776601683795"
      ]
     },
     "execution_count": 21,
     "metadata": {},
     "output_type": "execute_result"
    }
   ],
   "source": [
    "10 ** 0.5"
   ]
  },
  {
   "cell_type": "code",
   "execution_count": 22,
   "metadata": {},
   "outputs": [
    {
     "data": {
      "text/plain": [
       "0.0"
      ]
     },
     "execution_count": 22,
     "metadata": {},
     "output_type": "execute_result"
    }
   ],
   "source": [
    "1234567.8218427638471623987468213 - 1234567.821842763847162"
   ]
  },
  {
   "cell_type": "code",
   "execution_count": 23,
   "metadata": {},
   "outputs": [
    {
     "data": {
      "text/plain": [
       "1234567.8218427638"
      ]
     },
     "execution_count": 23,
     "metadata": {},
     "output_type": "execute_result"
    }
   ],
   "source": [
    "1234567.8218427638471623987468213"
   ]
  },
  {
   "cell_type": "code",
   "execution_count": 24,
   "metadata": {},
   "outputs": [
    {
     "data": {
      "text/plain": [
       "12.999999999999998"
      ]
     },
     "execution_count": 24,
     "metadata": {},
     "output_type": "execute_result"
    }
   ],
   "source": [
    "(13 ** 0.5) ** 2 #floating point errors"
   ]
  },
  {
   "cell_type": "code",
   "execution_count": 25,
   "metadata": {},
   "outputs": [
    {
     "data": {
      "text/plain": [
       "2.0"
      ]
     },
     "execution_count": 25,
     "metadata": {},
     "output_type": "execute_result"
    }
   ],
   "source": [
    "10 / 5"
   ]
  },
  {
   "cell_type": "code",
   "execution_count": 26,
   "metadata": {},
   "outputs": [
    {
     "data": {
      "text/plain": [
       "2"
      ]
     },
     "execution_count": 26,
     "metadata": {},
     "output_type": "execute_result"
    }
   ],
   "source": [
    "int(10/5)"
   ]
  },
  {
   "cell_type": "code",
   "execution_count": 27,
   "metadata": {},
   "outputs": [
    {
     "data": {
      "text/plain": [
       "2"
      ]
     },
     "execution_count": 27,
     "metadata": {},
     "output_type": "execute_result"
    }
   ],
   "source": [
    "int(10/4)"
   ]
  },
  {
   "cell_type": "code",
   "execution_count": 28,
   "metadata": {},
   "outputs": [
    {
     "data": {
      "text/plain": [
       "3.0"
      ]
     },
     "execution_count": 28,
     "metadata": {},
     "output_type": "execute_result"
    }
   ],
   "source": [
    "float(3)"
   ]
  },
  {
   "cell_type": "code",
   "execution_count": 29,
   "metadata": {},
   "outputs": [
    {
     "data": {
      "text/plain": [
       "1.5e-21"
      ]
     },
     "execution_count": 29,
     "metadata": {},
     "output_type": "execute_result"
    }
   ],
   "source": [
    "6/4000000000000000000000"
   ]
  },
  {
   "cell_type": "code",
   "execution_count": 30,
   "metadata": {},
   "outputs": [
    {
     "data": {
      "text/plain": [
       "0.0025"
      ]
     },
     "execution_count": 30,
     "metadata": {},
     "output_type": "execute_result"
    }
   ],
   "source": [
    "2.5e-3"
   ]
  },
  {
   "cell_type": "markdown",
   "metadata": {},
   "source": [
    "## Strings ##"
   ]
  },
  {
   "cell_type": "code",
   "execution_count": 31,
   "metadata": {},
   "outputs": [
    {
     "data": {
      "text/html": [
       "<table border=\"1\" class=\"dataframe\">\n",
       "    <thead>\n",
       "        <tr>\n",
       "            <th>Title</th>\n",
       "        </tr>\n",
       "    </thead>\n",
       "    <tbody>\n",
       "        <tr>\n",
       "            <td>Senator       </td>\n",
       "        </tr>\n",
       "        <tr>\n",
       "            <td>Representative</td>\n",
       "        </tr>\n",
       "        <tr>\n",
       "            <td>Mayor         </td>\n",
       "        </tr>\n",
       "        <tr>\n",
       "            <td>Senator       </td>\n",
       "        </tr>\n",
       "        <tr>\n",
       "            <td>Senator       </td>\n",
       "        </tr>\n",
       "        <tr>\n",
       "            <td>Governor      </td>\n",
       "        </tr>\n",
       "        <tr>\n",
       "            <td>Representative</td>\n",
       "        </tr>\n",
       "        <tr>\n",
       "            <td>Secretary     </td>\n",
       "        </tr>\n",
       "        <tr>\n",
       "            <td>Representative</td>\n",
       "        </tr>\n",
       "        <tr>\n",
       "            <td>Representative</td>\n",
       "        </tr>\n",
       "    </tbody>\n",
       "</table>"
      ],
      "text/plain": [
       "Title\n",
       "Senator\n",
       "Representative\n",
       "Mayor\n",
       "Senator\n",
       "Senator\n",
       "Governor\n",
       "Representative\n",
       "Secretary\n",
       "Representative\n",
       "Representative"
      ]
     },
     "execution_count": 31,
     "metadata": {},
     "output_type": "execute_result"
    }
   ],
   "source": [
    "debate.select(\"Title\")"
   ]
  },
  {
   "cell_type": "code",
   "execution_count": 33,
   "metadata": {},
   "outputs": [
    {
     "ename": "NameError",
     "evalue": "name 'Title' is not defined",
     "output_type": "error",
     "traceback": [
      "\u001b[0;31m---------------------------------------------------------------------------\u001b[0m",
      "\u001b[0;31mNameError\u001b[0m                                 Traceback (most recent call last)",
      "\u001b[0;32m<ipython-input-33-72b7fc0a6325>\u001b[0m in \u001b[0;36m<module>\u001b[0;34m\u001b[0m\n\u001b[0;32m----> 1\u001b[0;31m \u001b[0mdebate\u001b[0m\u001b[0;34m.\u001b[0m\u001b[0mselect\u001b[0m\u001b[0;34m(\u001b[0m\u001b[0mTitle\u001b[0m\u001b[0;34m)\u001b[0m\u001b[0;34m\u001b[0m\u001b[0;34m\u001b[0m\u001b[0m\n\u001b[0m",
      "\u001b[0;31mNameError\u001b[0m: name 'Title' is not defined"
     ]
    }
   ],
   "source": [
    "debate.select(Title)"
   ]
  },
  {
   "cell_type": "code",
   "execution_count": 34,
   "metadata": {},
   "outputs": [],
   "source": [
    "label = \"Title\""
   ]
  },
  {
   "cell_type": "code",
   "execution_count": 35,
   "metadata": {},
   "outputs": [
    {
     "data": {
      "text/html": [
       "<table border=\"1\" class=\"dataframe\">\n",
       "    <thead>\n",
       "        <tr>\n",
       "            <th>Title</th>\n",
       "        </tr>\n",
       "    </thead>\n",
       "    <tbody>\n",
       "        <tr>\n",
       "            <td>Senator       </td>\n",
       "        </tr>\n",
       "        <tr>\n",
       "            <td>Representative</td>\n",
       "        </tr>\n",
       "        <tr>\n",
       "            <td>Mayor         </td>\n",
       "        </tr>\n",
       "        <tr>\n",
       "            <td>Senator       </td>\n",
       "        </tr>\n",
       "        <tr>\n",
       "            <td>Senator       </td>\n",
       "        </tr>\n",
       "        <tr>\n",
       "            <td>Governor      </td>\n",
       "        </tr>\n",
       "        <tr>\n",
       "            <td>Representative</td>\n",
       "        </tr>\n",
       "        <tr>\n",
       "            <td>Secretary     </td>\n",
       "        </tr>\n",
       "        <tr>\n",
       "            <td>Representative</td>\n",
       "        </tr>\n",
       "        <tr>\n",
       "            <td>Representative</td>\n",
       "        </tr>\n",
       "    </tbody>\n",
       "</table>"
      ],
      "text/plain": [
       "Title\n",
       "Senator\n",
       "Representative\n",
       "Mayor\n",
       "Senator\n",
       "Senator\n",
       "Governor\n",
       "Representative\n",
       "Secretary\n",
       "Representative\n",
       "Representative"
      ]
     },
     "execution_count": 35,
     "metadata": {},
     "output_type": "execute_result"
    }
   ],
   "source": [
    "debate.select(label)"
   ]
  },
  {
   "cell_type": "code",
   "execution_count": 36,
   "metadata": {},
   "outputs": [
    {
     "data": {
      "text/plain": [
       "'Candidate'"
      ]
     },
     "execution_count": 36,
     "metadata": {},
     "output_type": "execute_result"
    }
   ],
   "source": [
    "\"Candidate\""
   ]
  },
  {
   "cell_type": "code",
   "execution_count": 37,
   "metadata": {},
   "outputs": [
    {
     "data": {
      "text/plain": [
       "'Candidate'"
      ]
     },
     "execution_count": 37,
     "metadata": {},
     "output_type": "execute_result"
    }
   ],
   "source": [
    "'Candidate'"
   ]
  },
  {
   "cell_type": "code",
   "execution_count": 38,
   "metadata": {},
   "outputs": [
    {
     "ename": "SyntaxError",
     "evalue": "invalid syntax (<ipython-input-38-193bbd20e861>, line 1)",
     "output_type": "error",
     "traceback": [
      "\u001b[0;36m  File \u001b[0;32m\"<ipython-input-38-193bbd20e861>\"\u001b[0;36m, line \u001b[0;32m1\u001b[0m\n\u001b[0;31m    'Beto O'Rourke'\u001b[0m\n\u001b[0m                 ^\u001b[0m\n\u001b[0;31mSyntaxError\u001b[0m\u001b[0;31m:\u001b[0m invalid syntax\n"
     ]
    }
   ],
   "source": [
    "'Beto O'Rourke'"
   ]
  },
  {
   "cell_type": "code",
   "execution_count": 39,
   "metadata": {},
   "outputs": [
    {
     "data": {
      "text/plain": [
       "\"Beto O'Rourke\""
      ]
     },
     "execution_count": 39,
     "metadata": {},
     "output_type": "execute_result"
    }
   ],
   "source": [
    "\"Beto O'Rourke\""
   ]
  },
  {
   "cell_type": "code",
   "execution_count": 40,
   "metadata": {},
   "outputs": [
    {
     "data": {
      "text/plain": [
       "\"y'all\""
      ]
     },
     "execution_count": 40,
     "metadata": {},
     "output_type": "execute_result"
    }
   ],
   "source": [
    "\"y'all\""
   ]
  },
  {
   "cell_type": "code",
   "execution_count": 41,
   "metadata": {},
   "outputs": [
    {
     "data": {
      "text/html": [
       "<table border=\"1\" class=\"dataframe\">\n",
       "    <thead>\n",
       "        <tr>\n",
       "            <th>Candidate</th> <th>Minutes Spoken</th> <th>Words Spoken</th> <th>Title</th>\n",
       "        </tr>\n",
       "    </thead>\n",
       "    <tbody>\n",
       "        <tr>\n",
       "            <td>Beto O'Rourke</td> <td>10.3          </td> <td>1,932       </td> <td>Representative</td>\n",
       "        </tr>\n",
       "    </tbody>\n",
       "</table>"
      ],
      "text/plain": [
       "Candidate     | Minutes Spoken | Words Spoken | Title\n",
       "Beto O'Rourke | 10.3           | 1,932        | Representative"
      ]
     },
     "execution_count": 41,
     "metadata": {},
     "output_type": "execute_result"
    }
   ],
   "source": [
    "debate.where(\"Candidate\", are.equal_to(\"Beto O'Rourke\"))"
   ]
  },
  {
   "cell_type": "code",
   "execution_count": 42,
   "metadata": {},
   "outputs": [
    {
     "data": {
      "text/plain": [
       "'strawberry'"
      ]
     },
     "execution_count": 42,
     "metadata": {},
     "output_type": "execute_result"
    }
   ],
   "source": [
    "\"straw\" + \"berry\""
   ]
  },
  {
   "cell_type": "code",
   "execution_count": 45,
   "metadata": {},
   "outputs": [
    {
     "data": {
      "text/plain": [
       "'Dwinelle Hall'"
      ]
     },
     "execution_count": 45,
     "metadata": {},
     "output_type": "execute_result"
    }
   ],
   "source": [
    "\"Dwinelle \"+ \"Hall\""
   ]
  },
  {
   "cell_type": "code",
   "execution_count": 46,
   "metadata": {},
   "outputs": [
    {
     "data": {
      "text/plain": [
       "5"
      ]
     },
     "execution_count": 46,
     "metadata": {},
     "output_type": "execute_result"
    }
   ],
   "source": [
    "len(label)"
   ]
  },
  {
   "cell_type": "code",
   "execution_count": 47,
   "metadata": {},
   "outputs": [
    {
     "data": {
      "text/plain": [
       "'Title'"
      ]
     },
     "execution_count": 47,
     "metadata": {},
     "output_type": "execute_result"
    }
   ],
   "source": [
    "label"
   ]
  },
  {
   "cell_type": "code",
   "execution_count": 53,
   "metadata": {},
   "outputs": [],
   "source": [
    "length_of_strawberry = len(\"strawberry\")"
   ]
  },
  {
   "cell_type": "code",
   "execution_count": 49,
   "metadata": {},
   "outputs": [
    {
     "data": {
      "text/plain": [
       "'OMG'"
      ]
     },
     "execution_count": 49,
     "metadata": {},
     "output_type": "execute_result"
    }
   ],
   "source": [
    "'omg'.upper()"
   ]
  },
  {
   "cell_type": "code",
   "execution_count": 50,
   "metadata": {},
   "outputs": [
    {
     "data": {
      "text/plain": [
       "<function len(obj, /)>"
      ]
     },
     "execution_count": 50,
     "metadata": {},
     "output_type": "execute_result"
    }
   ],
   "source": [
    "len"
   ]
  },
  {
   "cell_type": "code",
   "execution_count": 51,
   "metadata": {},
   "outputs": [
    {
     "data": {
      "text/plain": [
       "3"
      ]
     },
     "execution_count": 51,
     "metadata": {},
     "output_type": "execute_result"
    }
   ],
   "source": [
    "len(make_array(1,2,3))"
   ]
  },
  {
   "cell_type": "code",
   "execution_count": 52,
   "metadata": {},
   "outputs": [
    {
     "ename": "SyntaxError",
     "evalue": "invalid syntax (<ipython-input-52-24f0ec1487a0>, line 1)",
     "output_type": "error",
     "traceback": [
      "\u001b[0;36m  File \u001b[0;32m\"<ipython-input-52-24f0ec1487a0>\"\u001b[0;36m, line \u001b[0;32m1\u001b[0m\n\u001b[0;31m    3.upper()\u001b[0m\n\u001b[0m          ^\u001b[0m\n\u001b[0;31mSyntaxError\u001b[0m\u001b[0;31m:\u001b[0m invalid syntax\n"
     ]
    }
   ],
   "source": [
    "3.upper()"
   ]
  },
  {
   "cell_type": "code",
   "execution_count": 54,
   "metadata": {},
   "outputs": [
    {
     "data": {
      "text/plain": [
       "10"
      ]
     },
     "execution_count": 54,
     "metadata": {},
     "output_type": "execute_result"
    }
   ],
   "source": [
    "length_of_strawberry"
   ]
  },
  {
   "cell_type": "code",
   "execution_count": 55,
   "metadata": {},
   "outputs": [],
   "source": [
    "x = 3\n",
    "y = '4'\n",
    "z = '5.6'"
   ]
  },
  {
   "cell_type": "code",
   "execution_count": 56,
   "metadata": {},
   "outputs": [
    {
     "ename": "TypeError",
     "evalue": "unsupported operand type(s) for +: 'int' and 'str'",
     "output_type": "error",
     "traceback": [
      "\u001b[0;31m---------------------------------------------------------------------------\u001b[0m",
      "\u001b[0;31mTypeError\u001b[0m                                 Traceback (most recent call last)",
      "\u001b[0;32m<ipython-input-56-cd60f97aa77f>\u001b[0m in \u001b[0;36m<module>\u001b[0;34m\u001b[0m\n\u001b[0;32m----> 1\u001b[0;31m \u001b[0mx\u001b[0m \u001b[0;34m+\u001b[0m \u001b[0my\u001b[0m\u001b[0;34m\u001b[0m\u001b[0;34m\u001b[0m\u001b[0m\n\u001b[0m",
      "\u001b[0;31mTypeError\u001b[0m: unsupported operand type(s) for +: 'int' and 'str'"
     ]
    }
   ],
   "source": [
    "x + y"
   ]
  },
  {
   "cell_type": "code",
   "execution_count": 60,
   "metadata": {},
   "outputs": [
    {
     "ename": "ValueError",
     "evalue": "invalid literal for int() with base 10: '45.6'",
     "output_type": "error",
     "traceback": [
      "\u001b[0;31m---------------------------------------------------------------------------\u001b[0m",
      "\u001b[0;31mValueError\u001b[0m                                Traceback (most recent call last)",
      "\u001b[0;32m<ipython-input-60-f23e4a554275>\u001b[0m in \u001b[0;36m<module>\u001b[0;34m\u001b[0m\n\u001b[0;32m----> 1\u001b[0;31m \u001b[0mint\u001b[0m\u001b[0;34m(\u001b[0m\u001b[0;34m'45.6'\u001b[0m\u001b[0;34m)\u001b[0m\u001b[0;34m\u001b[0m\u001b[0;34m\u001b[0m\u001b[0m\n\u001b[0m",
      "\u001b[0;31mValueError\u001b[0m: invalid literal for int() with base 10: '45.6'"
     ]
    }
   ],
   "source": [
    "int('45.6')"
   ]
  },
  {
   "cell_type": "code",
   "execution_count": 58,
   "metadata": {},
   "outputs": [
    {
     "ename": "ValueError",
     "evalue": "invalid literal for int() with base 10: '45.6'",
     "output_type": "error",
     "traceback": [
      "\u001b[0;31m---------------------------------------------------------------------------\u001b[0m",
      "\u001b[0;31mValueError\u001b[0m                                Traceback (most recent call last)",
      "\u001b[0;32m<ipython-input-58-efbd5671ad77>\u001b[0m in \u001b[0;36m<module>\u001b[0;34m\u001b[0m\n\u001b[0;32m----> 1\u001b[0;31m \u001b[0mx\u001b[0m \u001b[0;34m+\u001b[0m \u001b[0mint\u001b[0m\u001b[0;34m(\u001b[0m\u001b[0my\u001b[0m \u001b[0;34m+\u001b[0m \u001b[0mz\u001b[0m\u001b[0;34m)\u001b[0m\u001b[0;34m\u001b[0m\u001b[0;34m\u001b[0m\u001b[0m\n\u001b[0m",
      "\u001b[0;31mValueError\u001b[0m: invalid literal for int() with base 10: '45.6'"
     ]
    }
   ],
   "source": [
    "x + int(y + z)"
   ]
  },
  {
   "cell_type": "code",
   "execution_count": 61,
   "metadata": {},
   "outputs": [
    {
     "ename": "TypeError",
     "evalue": "must be str, not int",
     "output_type": "error",
     "traceback": [
      "\u001b[0;31m---------------------------------------------------------------------------\u001b[0m",
      "\u001b[0;31mTypeError\u001b[0m                                 Traceback (most recent call last)",
      "\u001b[0;32m<ipython-input-61-5e2afaffa02a>\u001b[0m in \u001b[0;36m<module>\u001b[0;34m\u001b[0m\n\u001b[0;32m----> 1\u001b[0;31m \u001b[0mstr\u001b[0m\u001b[0;34m(\u001b[0m\u001b[0mx\u001b[0m\u001b[0;34m)\u001b[0m \u001b[0;34m+\u001b[0m \u001b[0mint\u001b[0m\u001b[0;34m(\u001b[0m\u001b[0my\u001b[0m\u001b[0;34m)\u001b[0m\u001b[0;34m\u001b[0m\u001b[0;34m\u001b[0m\u001b[0m\n\u001b[0m",
      "\u001b[0;31mTypeError\u001b[0m: must be str, not int"
     ]
    }
   ],
   "source": [
    "str(x) + int(y)"
   ]
  },
  {
   "cell_type": "markdown",
   "metadata": {},
   "source": [
    "## Types ##"
   ]
  },
  {
   "cell_type": "code",
   "execution_count": 62,
   "metadata": {},
   "outputs": [
    {
     "data": {
      "text/plain": [
       "int"
      ]
     },
     "execution_count": 62,
     "metadata": {},
     "output_type": "execute_result"
    }
   ],
   "source": [
    "type(3)"
   ]
  },
  {
   "cell_type": "code",
   "execution_count": 63,
   "metadata": {},
   "outputs": [
    {
     "data": {
      "text/plain": [
       "float"
      ]
     },
     "execution_count": 63,
     "metadata": {},
     "output_type": "execute_result"
    }
   ],
   "source": [
    "type(3.0)"
   ]
  },
  {
   "cell_type": "code",
   "execution_count": 64,
   "metadata": {},
   "outputs": [],
   "source": [
    "a = 10"
   ]
  },
  {
   "cell_type": "code",
   "execution_count": 65,
   "metadata": {},
   "outputs": [
    {
     "data": {
      "text/plain": [
       "int"
      ]
     },
     "execution_count": 65,
     "metadata": {},
     "output_type": "execute_result"
    }
   ],
   "source": [
    "type(a)"
   ]
  },
  {
   "cell_type": "code",
   "execution_count": 66,
   "metadata": {},
   "outputs": [
    {
     "data": {
      "text/plain": [
       "str"
      ]
     },
     "execution_count": 66,
     "metadata": {},
     "output_type": "execute_result"
    }
   ],
   "source": [
    "type('abc')"
   ]
  },
  {
   "cell_type": "code",
   "execution_count": 67,
   "metadata": {},
   "outputs": [
    {
     "data": {
      "text/plain": [
       "datascience.tables.Table"
      ]
     },
     "execution_count": 67,
     "metadata": {},
     "output_type": "execute_result"
    }
   ],
   "source": [
    "type(debate)"
   ]
  },
  {
   "cell_type": "code",
   "execution_count": 68,
   "metadata": {},
   "outputs": [
    {
     "data": {
      "text/plain": [
       "builtin_function_or_method"
      ]
     },
     "execution_count": 68,
     "metadata": {},
     "output_type": "execute_result"
    }
   ],
   "source": [
    "type(abs)"
   ]
  },
  {
   "cell_type": "code",
   "execution_count": 69,
   "metadata": {},
   "outputs": [
    {
     "data": {
      "text/plain": [
       "True"
      ]
     },
     "execution_count": 69,
     "metadata": {},
     "output_type": "execute_result"
    }
   ],
   "source": [
    "7 < 8"
   ]
  },
  {
   "cell_type": "code",
   "execution_count": 70,
   "metadata": {},
   "outputs": [
    {
     "data": {
      "text/plain": [
       "False"
      ]
     },
     "execution_count": 70,
     "metadata": {},
     "output_type": "execute_result"
    }
   ],
   "source": [
    "7 > 8"
   ]
  },
  {
   "cell_type": "code",
   "execution_count": 71,
   "metadata": {},
   "outputs": [
    {
     "data": {
      "text/plain": [
       "True"
      ]
     },
     "execution_count": 71,
     "metadata": {},
     "output_type": "execute_result"
    }
   ],
   "source": [
    "7 >= 7"
   ]
  },
  {
   "cell_type": "code",
   "execution_count": 72,
   "metadata": {},
   "outputs": [
    {
     "data": {
      "text/plain": [
       "True"
      ]
     },
     "execution_count": 72,
     "metadata": {},
     "output_type": "execute_result"
    }
   ],
   "source": [
    "7 == 7"
   ]
  },
  {
   "cell_type": "code",
   "execution_count": 73,
   "metadata": {},
   "outputs": [
    {
     "data": {
      "text/plain": [
       "False"
      ]
     },
     "execution_count": 73,
     "metadata": {},
     "output_type": "execute_result"
    }
   ],
   "source": [
    "7 != 7"
   ]
  },
  {
   "cell_type": "code",
   "execution_count": 74,
   "metadata": {},
   "outputs": [
    {
     "data": {
      "text/plain": [
       "bool"
      ]
     },
     "execution_count": 74,
     "metadata": {},
     "output_type": "execute_result"
    }
   ],
   "source": [
    "type(7==7)"
   ]
  },
  {
   "cell_type": "code",
   "execution_count": 75,
   "metadata": {},
   "outputs": [
    {
     "data": {
      "text/plain": [
       "True"
      ]
     },
     "execution_count": 75,
     "metadata": {},
     "output_type": "execute_result"
    }
   ],
   "source": [
    "True"
   ]
  },
  {
   "cell_type": "markdown",
   "metadata": {},
   "source": [
    "## Arrays ##"
   ]
  },
  {
   "cell_type": "code",
   "execution_count": 76,
   "metadata": {},
   "outputs": [
    {
     "data": {
      "text/plain": [
       "array([16,  3,  4, 35])"
      ]
     },
     "execution_count": 76,
     "metadata": {},
     "output_type": "execute_result"
    }
   ],
   "source": [
    "make_array(16, 3, 4, 35)"
   ]
  },
  {
   "cell_type": "code",
   "execution_count": 77,
   "metadata": {},
   "outputs": [],
   "source": [
    "groceries = make_array(16, 3, 4, 35)"
   ]
  },
  {
   "cell_type": "code",
   "execution_count": 78,
   "metadata": {},
   "outputs": [
    {
     "data": {
      "text/plain": [
       "array(['apples', 'milk', 'bread', 'beans'], dtype='<U6')"
      ]
     },
     "execution_count": 78,
     "metadata": {},
     "output_type": "execute_result"
    }
   ],
   "source": [
    "make_array('apples', 'milk', 'bread', 'beans')"
   ]
  },
  {
   "cell_type": "code",
   "execution_count": 79,
   "metadata": {},
   "outputs": [
    {
     "data": {
      "text/plain": [
       "array(['1', '2', '3', 'hi'], dtype='<U21')"
      ]
     },
     "execution_count": 79,
     "metadata": {},
     "output_type": "execute_result"
    }
   ],
   "source": [
    "bad_time = make_array(1,2,3,'hi')\n",
    "bad_time"
   ]
  },
  {
   "cell_type": "code",
   "execution_count": 82,
   "metadata": {},
   "outputs": [
    {
     "data": {
      "text/plain": [
       "array([14,  1,  2, 33])"
      ]
     },
     "execution_count": 82,
     "metadata": {},
     "output_type": "execute_result"
    }
   ],
   "source": [
    "discounted_groceries = groceries - 2\n",
    "discounted_groceries"
   ]
  },
  {
   "cell_type": "code",
   "execution_count": 83,
   "metadata": {},
   "outputs": [
    {
     "data": {
      "text/plain": [
       "array([3.2, 0.6, 0.8, 7. ])"
      ]
     },
     "execution_count": 83,
     "metadata": {},
     "output_type": "execute_result"
    }
   ],
   "source": [
    "groceries * 0.2"
   ]
  },
  {
   "cell_type": "code",
   "execution_count": 84,
   "metadata": {},
   "outputs": [
    {
     "data": {
      "text/plain": [
       "array([12.8,  2.4,  3.2, 28. ])"
      ]
     },
     "execution_count": 84,
     "metadata": {},
     "output_type": "execute_result"
    }
   ],
   "source": [
    "groceries - (groceries * 0.2)"
   ]
  },
  {
   "cell_type": "code",
   "execution_count": 85,
   "metadata": {},
   "outputs": [],
   "source": [
    "coupon = make_array(0.2, 0.1, 0.3, 0.25)"
   ]
  },
  {
   "cell_type": "code",
   "execution_count": 86,
   "metadata": {},
   "outputs": [
    {
     "data": {
      "text/plain": [
       "array([3.2 , 0.3 , 1.2 , 8.75])"
      ]
     },
     "execution_count": 86,
     "metadata": {},
     "output_type": "execute_result"
    }
   ],
   "source": [
    "groceries * coupon"
   ]
  },
  {
   "cell_type": "code",
   "execution_count": 87,
   "metadata": {},
   "outputs": [
    {
     "ename": "ValueError",
     "evalue": "operands could not be broadcast together with shapes (4,) (3,) ",
     "output_type": "error",
     "traceback": [
      "\u001b[0;31m---------------------------------------------------------------------------\u001b[0m",
      "\u001b[0;31mValueError\u001b[0m                                Traceback (most recent call last)",
      "\u001b[0;32m<ipython-input-87-a1bdcee3fe8f>\u001b[0m in \u001b[0;36m<module>\u001b[0;34m\u001b[0m\n\u001b[0;32m----> 1\u001b[0;31m \u001b[0mgroceries\u001b[0m \u001b[0;34m*\u001b[0m \u001b[0mmake_array\u001b[0m\u001b[0;34m(\u001b[0m\u001b[0;36m0.2\u001b[0m\u001b[0;34m,\u001b[0m \u001b[0;36m0.1\u001b[0m\u001b[0;34m,\u001b[0m \u001b[0;36m0.3\u001b[0m\u001b[0;34m)\u001b[0m\u001b[0;34m\u001b[0m\u001b[0;34m\u001b[0m\u001b[0m\n\u001b[0m",
      "\u001b[0;31mValueError\u001b[0m: operands could not be broadcast together with shapes (4,) (3,) "
     ]
    }
   ],
   "source": [
    "groceries * make_array(0.2, 0.1, 0.3)"
   ]
  },
  {
   "cell_type": "code",
   "execution_count": 88,
   "metadata": {},
   "outputs": [
    {
     "data": {
      "text/plain": [
       "58"
      ]
     },
     "execution_count": 88,
     "metadata": {},
     "output_type": "execute_result"
    }
   ],
   "source": [
    "sum(groceries)"
   ]
  },
  {
   "cell_type": "markdown",
   "metadata": {},
   "source": [
    "## NumPy ##"
   ]
  },
  {
   "cell_type": "code",
   "execution_count": 89,
   "metadata": {},
   "outputs": [],
   "source": [
    "import numpy as np"
   ]
  },
  {
   "cell_type": "code",
   "execution_count": 90,
   "metadata": {},
   "outputs": [
    {
     "data": {
      "text/plain": [
       "14.5"
      ]
     },
     "execution_count": 90,
     "metadata": {},
     "output_type": "execute_result"
    }
   ],
   "source": [
    "np.average(groceries)"
   ]
  },
  {
   "cell_type": "code",
   "execution_count": 91,
   "metadata": {},
   "outputs": [
    {
     "data": {
      "text/plain": [
       "array([-13,   1,  31])"
      ]
     },
     "execution_count": 91,
     "metadata": {},
     "output_type": "execute_result"
    }
   ],
   "source": [
    "np.diff(groceries)"
   ]
  },
  {
   "cell_type": "markdown",
   "metadata": {},
   "source": [
    "## Columns of Tables are Arrays ##"
   ]
  },
  {
   "cell_type": "code",
   "execution_count": 92,
   "metadata": {},
   "outputs": [
    {
     "data": {
      "text/html": [
       "<table border=\"1\" class=\"dataframe\">\n",
       "    <thead>\n",
       "        <tr>\n",
       "            <th>Candidate</th> <th>Minutes Spoken</th> <th>Words Spoken</th> <th>Title</th>\n",
       "        </tr>\n",
       "    </thead>\n",
       "    <tbody>\n",
       "        <tr>\n",
       "            <td>Amy Klobuchar   </td> <td>8.5           </td> <td>1,614       </td> <td>Senator       </td>\n",
       "        </tr>\n",
       "        <tr>\n",
       "            <td>Beto O'Rourke   </td> <td>10.3          </td> <td>1,932       </td> <td>Representative</td>\n",
       "        </tr>\n",
       "        <tr>\n",
       "            <td>Bill de Blasio  </td> <td>5.6           </td> <td>881         </td> <td>Mayor         </td>\n",
       "        </tr>\n",
       "        <tr>\n",
       "            <td>Cory Booker     </td> <td>10.9          </td> <td>2,181       </td> <td>Senator       </td>\n",
       "        </tr>\n",
       "        <tr>\n",
       "            <td>Elizabeth Warren</td> <td>9.3           </td> <td>1,637       </td> <td>Senator       </td>\n",
       "        </tr>\n",
       "        <tr>\n",
       "            <td>Jay Inslee      </td> <td>5             </td> <td>875         </td> <td>Governor      </td>\n",
       "        </tr>\n",
       "        <tr>\n",
       "            <td>John Delaney    </td> <td>6.6           </td> <td>1,060       </td> <td>Representative</td>\n",
       "        </tr>\n",
       "        <tr>\n",
       "            <td>Julián Castro   </td> <td>8.8           </td> <td>1,588       </td> <td>Secretary     </td>\n",
       "        </tr>\n",
       "        <tr>\n",
       "            <td>Tim Ryan        </td> <td>7.7           </td> <td>1,383       </td> <td>Representative</td>\n",
       "        </tr>\n",
       "        <tr>\n",
       "            <td>Tulsi Gabbard   </td> <td>6.6           </td> <td>1,243       </td> <td>Representative</td>\n",
       "        </tr>\n",
       "    </tbody>\n",
       "</table>"
      ],
      "text/plain": [
       "Candidate        | Minutes Spoken | Words Spoken | Title\n",
       "Amy Klobuchar    | 8.5            | 1,614        | Senator\n",
       "Beto O'Rourke    | 10.3           | 1,932        | Representative\n",
       "Bill de Blasio   | 5.6            | 881          | Mayor\n",
       "Cory Booker      | 10.9           | 2,181        | Senator\n",
       "Elizabeth Warren | 9.3            | 1,637        | Senator\n",
       "Jay Inslee       | 5              | 875          | Governor\n",
       "John Delaney     | 6.6            | 1,060        | Representative\n",
       "Julián Castro    | 8.8            | 1,588        | Secretary\n",
       "Tim Ryan         | 7.7            | 1,383        | Representative\n",
       "Tulsi Gabbard    | 6.6            | 1,243        | Representative"
      ]
     },
     "execution_count": 92,
     "metadata": {},
     "output_type": "execute_result"
    }
   ],
   "source": [
    "debate"
   ]
  },
  {
   "cell_type": "code",
   "execution_count": null,
   "metadata": {},
   "outputs": [],
   "source": [
    "debate.select('Candidate')"
   ]
  },
  {
   "cell_type": "code",
   "execution_count": 94,
   "metadata": {},
   "outputs": [
    {
     "data": {
      "text/plain": [
       "datascience.tables.Table"
      ]
     },
     "execution_count": 94,
     "metadata": {},
     "output_type": "execute_result"
    }
   ],
   "source": [
    "type(debate.select('Candidate'))"
   ]
  },
  {
   "cell_type": "code",
   "execution_count": 95,
   "metadata": {},
   "outputs": [
    {
     "data": {
      "text/plain": [
       "array(['Amy Klobuchar', \"Beto O'Rourke\", 'Bill de Blasio', 'Cory Booker',\n",
       "       'Elizabeth Warren', 'Jay Inslee', 'John Delaney', 'Julián Castro',\n",
       "       'Tim Ryan', 'Tulsi Gabbard'], dtype='<U16')"
      ]
     },
     "execution_count": 95,
     "metadata": {},
     "output_type": "execute_result"
    }
   ],
   "source": [
    "debate.column(\"Candidate\")"
   ]
  },
  {
   "cell_type": "code",
   "execution_count": null,
   "metadata": {},
   "outputs": [],
   "source": [
    "type(debate.column(\"Candidate\"))"
   ]
  },
  {
   "cell_type": "code",
   "execution_count": 96,
   "metadata": {},
   "outputs": [
    {
     "data": {
      "text/plain": [
       "7.93"
      ]
     },
     "execution_count": 96,
     "metadata": {},
     "output_type": "execute_result"
    }
   ],
   "source": [
    "np.average(debate.column('Minutes Spoken'))"
   ]
  },
  {
   "cell_type": "code",
   "execution_count": 97,
   "metadata": {},
   "outputs": [
    {
     "data": {
      "text/plain": [
       "array([189.88235294, 187.57281553, 157.32142857, 200.09174312,\n",
       "       176.02150538, 175.        , 160.60606061, 180.45454545,\n",
       "       179.61038961, 188.33333333])"
      ]
     },
     "execution_count": 97,
     "metadata": {},
     "output_type": "execute_result"
    }
   ],
   "source": [
    "debate.column('Words Spoken') / debate.column('Minutes Spoken')"
   ]
  },
  {
   "cell_type": "code",
   "execution_count": 98,
   "metadata": {},
   "outputs": [
    {
     "data": {
      "text/plain": [
       "16"
      ]
     },
     "execution_count": 98,
     "metadata": {},
     "output_type": "execute_result"
    }
   ],
   "source": [
    "groceries.item(0)"
   ]
  },
  {
   "cell_type": "code",
   "execution_count": 99,
   "metadata": {},
   "outputs": [
    {
     "ename": "IndexError",
     "evalue": "index 4 is out of bounds for axis 0 with size 4",
     "output_type": "error",
     "traceback": [
      "\u001b[0;31m---------------------------------------------------------------------------\u001b[0m",
      "\u001b[0;31mIndexError\u001b[0m                                Traceback (most recent call last)",
      "\u001b[0;32m<ipython-input-99-1002a3ef0e44>\u001b[0m in \u001b[0;36m<module>\u001b[0;34m\u001b[0m\n\u001b[0;32m----> 1\u001b[0;31m \u001b[0mgroceries\u001b[0m\u001b[0;34m.\u001b[0m\u001b[0mitem\u001b[0m\u001b[0;34m(\u001b[0m\u001b[0;36m4\u001b[0m\u001b[0;34m)\u001b[0m\u001b[0;34m\u001b[0m\u001b[0;34m\u001b[0m\u001b[0m\n\u001b[0m",
      "\u001b[0;31mIndexError\u001b[0m: index 4 is out of bounds for axis 0 with size 4"
     ]
    }
   ],
   "source": [
    "groceries.item(4)"
   ]
  },
  {
   "cell_type": "code",
   "execution_count": 100,
   "metadata": {},
   "outputs": [
    {
     "data": {
      "text/plain": [
       "10.3"
      ]
     },
     "execution_count": 100,
     "metadata": {},
     "output_type": "execute_result"
    }
   ],
   "source": [
    "debate.column('Minutes Spoken').item(1)"
   ]
  },
  {
   "cell_type": "code",
   "execution_count": 107,
   "metadata": {},
   "outputs": [
    {
     "data": {
      "text/plain": [
       "numpy.ndarray"
      ]
     },
     "execution_count": 107,
     "metadata": {},
     "output_type": "execute_result"
    }
   ],
   "source": [
    "type(groceries)"
   ]
  },
  {
   "cell_type": "code",
   "execution_count": null,
   "metadata": {},
   "outputs": [],
   "source": []
  },
  {
   "cell_type": "markdown",
   "metadata": {},
   "source": [
    "## Ranges ##"
   ]
  },
  {
   "cell_type": "code",
   "execution_count": 101,
   "metadata": {},
   "outputs": [
    {
     "data": {
      "text/plain": [
       "array([ 1,  2,  3,  4,  5,  6,  7,  8,  9, 10])"
      ]
     },
     "execution_count": 101,
     "metadata": {},
     "output_type": "execute_result"
    }
   ],
   "source": [
    "make_array(1,2,3,4,5,6,7,8,9,10)"
   ]
  },
  {
   "cell_type": "code",
   "execution_count": 102,
   "metadata": {},
   "outputs": [
    {
     "data": {
      "text/plain": [
       "array([ 0,  1,  2,  3,  4,  5,  6,  7,  8,  9, 10, 11, 12, 13, 14, 15, 16,\n",
       "       17, 18, 19, 20, 21, 22, 23, 24, 25, 26, 27, 28, 29, 30, 31, 32, 33,\n",
       "       34, 35, 36, 37, 38, 39, 40, 41, 42, 43, 44, 45, 46, 47, 48, 49, 50,\n",
       "       51, 52, 53, 54, 55, 56, 57, 58, 59])"
      ]
     },
     "execution_count": 102,
     "metadata": {},
     "output_type": "execute_result"
    }
   ],
   "source": [
    "np.arange(60)"
   ]
  },
  {
   "cell_type": "code",
   "execution_count": 103,
   "metadata": {},
   "outputs": [
    {
     "data": {
      "text/plain": [
       "array([ 1,  2,  3,  4,  5,  6,  7,  8,  9, 10, 11, 12, 13, 14, 15, 16, 17,\n",
       "       18, 19, 20, 21, 22, 23, 24, 25, 26, 27, 28, 29, 30, 31, 32, 33, 34,\n",
       "       35, 36, 37, 38, 39, 40, 41, 42, 43, 44, 45, 46, 47, 48, 49, 50, 51,\n",
       "       52, 53, 54, 55, 56, 57, 58, 59, 60])"
      ]
     },
     "execution_count": 103,
     "metadata": {},
     "output_type": "execute_result"
    }
   ],
   "source": [
    "np.arange(1,61)"
   ]
  },
  {
   "cell_type": "code",
   "execution_count": 104,
   "metadata": {},
   "outputs": [
    {
     "data": {
      "text/plain": [
       "array([  5,   8,  11,  14,  17,  20,  23,  26,  29,  32,  35,  38,  41,\n",
       "        44,  47,  50,  53,  56,  59,  62,  65,  68,  71,  74,  77,  80,\n",
       "        83,  86,  89,  92,  95,  98, 101, 104, 107, 110, 113, 116, 119,\n",
       "       122, 125, 128, 131, 134, 137, 140, 143, 146, 149, 152, 155, 158,\n",
       "       161, 164, 167, 170, 173, 176, 179, 182, 185, 188, 191, 194, 197,\n",
       "       200, 203, 206, 209, 212, 215, 218, 221, 224, 227, 230, 233, 236,\n",
       "       239, 242, 245, 248, 251, 254, 257, 260, 263, 266, 269, 272, 275,\n",
       "       278, 281, 284, 287, 290, 293, 296, 299, 302, 305, 308, 311, 314,\n",
       "       317, 320, 323, 326, 329, 332, 335, 338, 341, 344, 347, 350, 353,\n",
       "       356, 359, 362, 365, 368, 371, 374, 377, 380, 383, 386, 389, 392,\n",
       "       395, 398, 401, 404, 407, 410, 413, 416, 419, 422, 425, 428, 431,\n",
       "       434, 437, 440, 443, 446, 449, 452, 455, 458, 461, 464, 467, 470,\n",
       "       473, 476, 479, 482, 485, 488, 491, 494, 497])"
      ]
     },
     "execution_count": 104,
     "metadata": {},
     "output_type": "execute_result"
    }
   ],
   "source": [
    "np.arange(5,500,3)"
   ]
  },
  {
   "cell_type": "code",
   "execution_count": 106,
   "metadata": {},
   "outputs": [
    {
     "data": {
      "text/plain": [
       "numpy.ndarray"
      ]
     },
     "execution_count": 106,
     "metadata": {},
     "output_type": "execute_result"
    }
   ],
   "source": [
    "type(np.arange(6))"
   ]
  },
  {
   "cell_type": "code",
   "execution_count": 108,
   "metadata": {},
   "outputs": [],
   "source": [
    "six_array = np.arange(6)"
   ]
  },
  {
   "cell_type": "code",
   "execution_count": 109,
   "metadata": {},
   "outputs": [
    {
     "data": {
      "text/plain": [
       "array([0, 1, 2, 3, 4, 5])"
      ]
     },
     "execution_count": 109,
     "metadata": {},
     "output_type": "execute_result"
    }
   ],
   "source": [
    "six_array"
   ]
  },
  {
   "cell_type": "code",
   "execution_count": null,
   "metadata": {},
   "outputs": [],
   "source": []
  }
 ],
 "metadata": {
  "anaconda-cloud": {},
  "kernelspec": {
   "display_name": "Python 3",
   "language": "python",
   "name": "python3"
  },
  "language_info": {
   "codemirror_mode": {
    "name": "ipython",
    "version": 3
   },
   "file_extension": ".py",
   "mimetype": "text/x-python",
   "name": "python",
   "nbconvert_exporter": "python",
   "pygments_lexer": "ipython3",
   "version": "3.6.8"
  }
 },
 "nbformat": 4,
 "nbformat_minor": 1
}
