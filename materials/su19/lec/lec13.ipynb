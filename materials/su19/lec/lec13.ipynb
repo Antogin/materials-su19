{
 "cells": [
  {
   "cell_type": "code",
   "execution_count": 1,
   "metadata": {},
   "outputs": [],
   "source": [
    "from datascience import *\n",
    "import numpy as np\n",
    "\n",
    "%matplotlib inline\n",
    "import matplotlib.pyplot as plots\n",
    "plots.style.use('fivethirtyeight')"
   ]
  },
  {
   "cell_type": "markdown",
   "metadata": {},
   "source": [
    "## Probability ##"
   ]
  },
  {
   "cell_type": "code",
   "execution_count": 2,
   "metadata": {},
   "outputs": [
    {
     "data": {
      "text/plain": [
       "0.00020202020202020205"
      ]
     },
     "execution_count": 2,
     "metadata": {},
     "output_type": "execute_result"
    }
   ],
   "source": [
    "# Discussion Question (a)\n",
    "# P(Mo and Jo both appear)\n",
    "# P(Mo picked first, then Joe is picked) + P(Jo picked first, Mo picked second)\n",
    "(1/100)*(1/99) + (1/100)*(1/99)"
   ]
  },
  {
   "cell_type": "code",
   "execution_count": 3,
   "metadata": {},
   "outputs": [
    {
     "data": {
      "text/plain": [
       "0.9602020202020202"
      ]
     },
     "execution_count": 3,
     "metadata": {},
     "output_type": "execute_result"
    }
   ],
   "source": [
    "# Discussion Question (b)\n",
    "# P(neither Mo nor Jo appears)\n",
    "# P(neither Mo nor Jo is picked first)*P(neither mo nor jo is picked second, given neither is picked first)\n",
    "(98/100)*(97/99)"
   ]
  },
  {
   "cell_type": "markdown",
   "metadata": {},
   "source": [
    "## Conditional Probability ##"
   ]
  },
  {
   "cell_type": "code",
   "execution_count": null,
   "metadata": {},
   "outputs": [],
   "source": [
    "# P(has disease | tests positive)"
   ]
  },
  {
   "cell_type": "code",
   "execution_count": 20,
   "metadata": {},
   "outputs": [
    {
     "data": {
      "text/plain": [
       "0.16385135135135134"
      ]
     },
     "execution_count": 20,
     "metadata": {},
     "output_type": "execute_result"
    }
   ],
   "source": [
    "0.01*0.97/(0.01*0.97 + 0.99*0.05)"
   ]
  },
  {
   "cell_type": "markdown",
   "metadata": {},
   "source": [
    "## Random Sampling ##"
   ]
  },
  {
   "cell_type": "code",
   "execution_count": 4,
   "metadata": {},
   "outputs": [],
   "source": [
    "united = Table.read_table('united_summer2015.csv')\n",
    "united = united.with_column('Row', np.arange(united.num_rows))\n",
    "united = united.select(\"Row\", \"Date\", \"Flight Number\", \"Destination\", \"Delay\")"
   ]
  },
  {
   "cell_type": "code",
   "execution_count": 5,
   "metadata": {},
   "outputs": [
    {
     "data": {
      "text/html": [
       "<table border=\"1\" class=\"dataframe\">\n",
       "    <thead>\n",
       "        <tr>\n",
       "            <th>Row</th> <th>Date</th> <th>Flight Number</th> <th>Destination</th> <th>Delay</th>\n",
       "        </tr>\n",
       "    </thead>\n",
       "    <tbody>\n",
       "        <tr>\n",
       "            <td>0   </td> <td>6/1/15</td> <td>73           </td> <td>HNL        </td> <td>257  </td>\n",
       "        </tr>\n",
       "        <tr>\n",
       "            <td>1   </td> <td>6/1/15</td> <td>217          </td> <td>EWR        </td> <td>28   </td>\n",
       "        </tr>\n",
       "        <tr>\n",
       "            <td>2   </td> <td>6/1/15</td> <td>237          </td> <td>STL        </td> <td>-3   </td>\n",
       "        </tr>\n",
       "        <tr>\n",
       "            <td>3   </td> <td>6/1/15</td> <td>250          </td> <td>SAN        </td> <td>0    </td>\n",
       "        </tr>\n",
       "        <tr>\n",
       "            <td>4   </td> <td>6/1/15</td> <td>267          </td> <td>PHL        </td> <td>64   </td>\n",
       "        </tr>\n",
       "        <tr>\n",
       "            <td>5   </td> <td>6/1/15</td> <td>273          </td> <td>SEA        </td> <td>-6   </td>\n",
       "        </tr>\n",
       "        <tr>\n",
       "            <td>6   </td> <td>6/1/15</td> <td>278          </td> <td>SEA        </td> <td>-8   </td>\n",
       "        </tr>\n",
       "        <tr>\n",
       "            <td>7   </td> <td>6/1/15</td> <td>292          </td> <td>EWR        </td> <td>12   </td>\n",
       "        </tr>\n",
       "        <tr>\n",
       "            <td>8   </td> <td>6/1/15</td> <td>300          </td> <td>HNL        </td> <td>20   </td>\n",
       "        </tr>\n",
       "        <tr>\n",
       "            <td>9   </td> <td>6/1/15</td> <td>317          </td> <td>IND        </td> <td>-10  </td>\n",
       "        </tr>\n",
       "    </tbody>\n",
       "</table>\n",
       "<p>... (13815 rows omitted)</p>"
      ],
      "text/plain": [
       "Row  | Date   | Flight Number | Destination | Delay\n",
       "0    | 6/1/15 | 73            | HNL         | 257\n",
       "1    | 6/1/15 | 217           | EWR         | 28\n",
       "2    | 6/1/15 | 237           | STL         | -3\n",
       "3    | 6/1/15 | 250           | SAN         | 0\n",
       "4    | 6/1/15 | 267           | PHL         | 64\n",
       "5    | 6/1/15 | 273           | SEA         | -6\n",
       "6    | 6/1/15 | 278           | SEA         | -8\n",
       "7    | 6/1/15 | 292           | EWR         | 12\n",
       "8    | 6/1/15 | 300           | HNL         | 20\n",
       "9    | 6/1/15 | 317           | IND         | -10\n",
       "... (13815 rows omitted)"
      ]
     },
     "execution_count": 5,
     "metadata": {},
     "output_type": "execute_result"
    }
   ],
   "source": [
    "united"
   ]
  },
  {
   "cell_type": "markdown",
   "metadata": {},
   "source": [
    "#### Original Data"
   ]
  },
  {
   "cell_type": "code",
   "execution_count": 6,
   "metadata": {},
   "outputs": [
    {
     "data": {
      "image/png": "[encoded data removed]",
      "text/plain": [
       "<Figure size 432x288 with 1 Axes>"
      ]
     },
     "metadata": {},
     "output_type": "display_data"
    }
   ],
   "source": [
    "united.hist(\"Delay\")"
   ]
  },
  {
   "cell_type": "code",
   "execution_count": 7,
   "metadata": {},
   "outputs": [
    {
     "data": {
      "image/png": "[encoded data removed]",
      "text/plain": [
       "<Figure size 432x288 with 1 Axes>"
      ]
     },
     "metadata": {},
     "output_type": "display_data"
    }
   ],
   "source": [
    "united.hist(\"Delay\", bins=np.arange(-50, 250, 10))"
   ]
  },
  {
   "cell_type": "markdown",
   "metadata": {},
   "source": [
    "#### Deterministic Sample"
   ]
  },
  {
   "cell_type": "code",
   "execution_count": 8,
   "metadata": {},
   "outputs": [
    {
     "data": {
      "text/html": [
       "<table border=\"1\" class=\"dataframe\">\n",
       "    <thead>\n",
       "        <tr>\n",
       "            <th>Row</th> <th>Date</th> <th>Flight Number</th> <th>Destination</th> <th>Delay</th>\n",
       "        </tr>\n",
       "    </thead>\n",
       "    <tbody>\n",
       "        <tr>\n",
       "            <td>0   </td> <td>6/1/15 </td> <td>73           </td> <td>HNL        </td> <td>257  </td>\n",
       "        </tr>\n",
       "        <tr>\n",
       "            <td>151 </td> <td>6/2/15 </td> <td>73           </td> <td>HNL        </td> <td>0    </td>\n",
       "        </tr>\n",
       "        <tr>\n",
       "            <td>297 </td> <td>6/3/15 </td> <td>73           </td> <td>HNL        </td> <td>354  </td>\n",
       "        </tr>\n",
       "        <tr>\n",
       "            <td>446 </td> <td>6/4/15 </td> <td>73           </td> <td>HNL        </td> <td>64   </td>\n",
       "        </tr>\n",
       "        <tr>\n",
       "            <td>603 </td> <td>6/5/15 </td> <td>73           </td> <td>HNL        </td> <td>0    </td>\n",
       "        </tr>\n",
       "        <tr>\n",
       "            <td>761 </td> <td>6/6/15 </td> <td>73           </td> <td>HNL        </td> <td>39   </td>\n",
       "        </tr>\n",
       "        <tr>\n",
       "            <td>885 </td> <td>6/7/15 </td> <td>73           </td> <td>HNL        </td> <td>7    </td>\n",
       "        </tr>\n",
       "        <tr>\n",
       "            <td>1032</td> <td>6/8/15 </td> <td>73           </td> <td>HNL        </td> <td>7    </td>\n",
       "        </tr>\n",
       "        <tr>\n",
       "            <td>1189</td> <td>6/9/15 </td> <td>73           </td> <td>HNL        </td> <td>14   </td>\n",
       "        </tr>\n",
       "        <tr>\n",
       "            <td>1344</td> <td>6/10/15</td> <td>73           </td> <td>HNL        </td> <td>0    </td>\n",
       "        </tr>\n",
       "    </tbody>\n",
       "</table>\n",
       "<p>... (82 rows omitted)</p>"
      ],
      "text/plain": [
       "Row  | Date    | Flight Number | Destination | Delay\n",
       "0    | 6/1/15  | 73            | HNL         | 257\n",
       "151  | 6/2/15  | 73            | HNL         | 0\n",
       "297  | 6/3/15  | 73            | HNL         | 354\n",
       "446  | 6/4/15  | 73            | HNL         | 64\n",
       "603  | 6/5/15  | 73            | HNL         | 0\n",
       "761  | 6/6/15  | 73            | HNL         | 39\n",
       "885  | 6/7/15  | 73            | HNL         | 7\n",
       "1032 | 6/8/15  | 73            | HNL         | 7\n",
       "1189 | 6/9/15  | 73            | HNL         | 14\n",
       "1344 | 6/10/15 | 73            | HNL         | 0\n",
       "... (82 rows omitted)"
      ]
     },
     "execution_count": 8,
     "metadata": {},
     "output_type": "execute_result"
    }
   ],
   "source": [
    "deterministic = united.where(\"Flight Number\", are.equal_to(73))\n",
    "deterministic"
   ]
  },
  {
   "cell_type": "code",
   "execution_count": 9,
   "metadata": {},
   "outputs": [
    {
     "data": {
      "image/png": "[encoded data removed]",
      "text/plain": [
       "<Figure size 432x288 with 1 Axes>"
      ]
     },
     "metadata": {},
     "output_type": "display_data"
    }
   ],
   "source": [
    "deterministic.hist(\"Delay\", bins=np.arange(-50, 250, 10))"
   ]
  },
  {
   "cell_type": "code",
   "execution_count": 10,
   "metadata": {},
   "outputs": [
    {
     "data": {
      "text/html": [
       "<table border=\"1\" class=\"dataframe\">\n",
       "    <thead>\n",
       "        <tr>\n",
       "            <th>Row</th> <th>Date</th> <th>Flight Number</th> <th>Destination</th> <th>Delay</th>\n",
       "        </tr>\n",
       "    </thead>\n",
       "    <tbody>\n",
       "        <tr>\n",
       "            <td>999 </td> <td>6/7/15</td> <td>1684         </td> <td>LIH        </td> <td>-3   </td>\n",
       "        </tr>\n",
       "        <tr>\n",
       "            <td>1000</td> <td>6/7/15</td> <td>1692         </td> <td>EWR        </td> <td>7    </td>\n",
       "        </tr>\n",
       "        <tr>\n",
       "            <td>1001</td> <td>6/7/15</td> <td>1699         </td> <td>ATL        </td> <td>6    </td>\n",
       "        </tr>\n",
       "    </tbody>\n",
       "</table>"
      ],
      "text/plain": [
       "Row  | Date   | Flight Number | Destination | Delay\n",
       "999  | 6/7/15 | 1684          | LIH         | -3\n",
       "1000 | 6/7/15 | 1692          | EWR         | 7\n",
       "1001 | 6/7/15 | 1699          | ATL         | 6"
      ]
     },
     "execution_count": 10,
     "metadata": {},
     "output_type": "execute_result"
    }
   ],
   "source": [
    "deterministic_2 = united.take(make_array(999, 1000, 1001))\n",
    "deterministic_2"
   ]
  },
  {
   "cell_type": "code",
   "execution_count": 11,
   "metadata": {},
   "outputs": [
    {
     "data": {
      "image/png": "[encoded data removed]",
      "text/plain": [
       "<Figure size 432x288 with 1 Axes>"
      ]
     },
     "metadata": {},
     "output_type": "display_data"
    }
   ],
   "source": [
    "deterministic_2.hist(\"Delay\", bins=np.arange(-50, 250, 10))"
   ]
  },
  {
   "cell_type": "markdown",
   "metadata": {},
   "source": [
    "#### Systematic Sample"
   ]
  },
  {
   "cell_type": "code",
   "execution_count": 12,
   "metadata": {},
   "outputs": [
    {
     "data": {
      "text/html": [
       "<table border=\"1\" class=\"dataframe\">\n",
       "    <thead>\n",
       "        <tr>\n",
       "            <th>Row</th> <th>Date</th> <th>Flight Number</th> <th>Destination</th> <th>Delay</th>\n",
       "        </tr>\n",
       "    </thead>\n",
       "    <tbody>\n",
       "        <tr>\n",
       "            <td>452 </td> <td>6/4/15 </td> <td>267          </td> <td>PHL        </td> <td>2    </td>\n",
       "        </tr>\n",
       "        <tr>\n",
       "            <td>1452</td> <td>6/10/15</td> <td>1586         </td> <td>ORD        </td> <td>-1   </td>\n",
       "        </tr>\n",
       "        <tr>\n",
       "            <td>2452</td> <td>6/17/15</td> <td>736          </td> <td>EWR        </td> <td>-2   </td>\n",
       "        </tr>\n",
       "        <tr>\n",
       "            <td>3452</td> <td>6/23/15</td> <td>1975         </td> <td>FLL        </td> <td>3    </td>\n",
       "        </tr>\n",
       "        <tr>\n",
       "            <td>4452</td> <td>6/30/15</td> <td>1458         </td> <td>DEN        </td> <td>-2   </td>\n",
       "        </tr>\n",
       "        <tr>\n",
       "            <td>5452</td> <td>7/7/15 </td> <td>1670         </td> <td>HNL        </td> <td>-8   </td>\n",
       "        </tr>\n",
       "        <tr>\n",
       "            <td>6452</td> <td>7/14/15</td> <td>642          </td> <td>SEA        </td> <td>-3   </td>\n",
       "        </tr>\n",
       "        <tr>\n",
       "            <td>7452</td> <td>7/20/15</td> <td>1754         </td> <td>EWR        </td> <td>20   </td>\n",
       "        </tr>\n",
       "        <tr>\n",
       "            <td>8452</td> <td>7/27/15</td> <td>1038         </td> <td>LAS        </td> <td>-3   </td>\n",
       "        </tr>\n",
       "        <tr>\n",
       "            <td>9452</td> <td>8/2/15 </td> <td>1914         </td> <td>IAH        </td> <td>16   </td>\n",
       "        </tr>\n",
       "    </tbody>\n",
       "</table>\n",
       "<p>... (4 rows omitted)</p>"
      ],
      "text/plain": [
       "Row  | Date    | Flight Number | Destination | Delay\n",
       "452  | 6/4/15  | 267           | PHL         | 2\n",
       "1452 | 6/10/15 | 1586          | ORD         | -1\n",
       "2452 | 6/17/15 | 736           | EWR         | -2\n",
       "3452 | 6/23/15 | 1975          | FLL         | 3\n",
       "4452 | 6/30/15 | 1458          | DEN         | -2\n",
       "5452 | 7/7/15  | 1670          | HNL         | -8\n",
       "6452 | 7/14/15 | 642           | SEA         | -3\n",
       "7452 | 7/20/15 | 1754          | EWR         | 20\n",
       "8452 | 7/27/15 | 1038          | LAS         | -3\n",
       "9452 | 8/2/15  | 1914          | IAH         | 16\n",
       "... (4 rows omitted)"
      ]
     },
     "execution_count": 12,
     "metadata": {},
     "output_type": "execute_result"
    }
   ],
   "source": [
    "start = np.random.choice(np.arange(1000))\n",
    "systematic = united.take(np.arange(start, united.num_rows, 1000))\n",
    "systematic"
   ]
  },
  {
   "cell_type": "code",
   "execution_count": 14,
   "metadata": {},
   "outputs": [
    {
     "data": {
      "image/png": "[encoded data removed]",
      "text/plain": [
       "<Figure size 432x288 with 1 Axes>"
      ]
     },
     "metadata": {},
     "output_type": "display_data"
    }
   ],
   "source": [
    "systematic.hist(\"Delay\", bins= np.arange(-50, 250, 10))"
   ]
  },
  {
   "cell_type": "markdown",
   "metadata": {},
   "source": [
    "#### Convenience Sample"
   ]
  },
  {
   "cell_type": "code",
   "execution_count": null,
   "metadata": {},
   "outputs": [],
   "source": []
  },
  {
   "cell_type": "markdown",
   "metadata": {},
   "source": [
    "#### Random Sampling With Replacement"
   ]
  },
  {
   "cell_type": "code",
   "execution_count": 16,
   "metadata": {},
   "outputs": [
    {
     "data": {
      "text/html": [
       "<table border=\"1\" class=\"dataframe\">\n",
       "    <thead>\n",
       "        <tr>\n",
       "            <th>Row</th> <th>Date</th> <th>Flight Number</th> <th>Destination</th> <th>Delay</th>\n",
       "        </tr>\n",
       "    </thead>\n",
       "    <tbody>\n",
       "        <tr>\n",
       "            <td>11816</td> <td>8/17/15</td> <td>1984         </td> <td>PDX        </td> <td>26   </td>\n",
       "        </tr>\n",
       "        <tr>\n",
       "            <td>9233 </td> <td>8/1/15 </td> <td>663          </td> <td>HNL        </td> <td>20   </td>\n",
       "        </tr>\n",
       "        <tr>\n",
       "            <td>12006</td> <td>8/19/15</td> <td>753          </td> <td>DEN        </td> <td>8    </td>\n",
       "        </tr>\n",
       "        <tr>\n",
       "            <td>12227</td> <td>8/20/15</td> <td>1704         </td> <td>IAD        </td> <td>-3   </td>\n",
       "        </tr>\n",
       "        <tr>\n",
       "            <td>737  </td> <td>6/5/15 </td> <td>1742         </td> <td>LAS        </td> <td>15   </td>\n",
       "        </tr>\n",
       "        <tr>\n",
       "            <td>6646 </td> <td>7/15/15</td> <td>1178         </td> <td>PDX        </td> <td>-2   </td>\n",
       "        </tr>\n",
       "        <tr>\n",
       "            <td>8348 </td> <td>7/26/15</td> <td>1608         </td> <td>EWR        </td> <td>-2   </td>\n",
       "        </tr>\n",
       "        <tr>\n",
       "            <td>1721 </td> <td>6/12/15</td> <td>1076         </td> <td>BOS        </td> <td>66   </td>\n",
       "        </tr>\n",
       "        <tr>\n",
       "            <td>13824</td> <td>8/31/15</td> <td>2013         </td> <td>EWR        </td> <td>-2   </td>\n",
       "        </tr>\n",
       "        <tr>\n",
       "            <td>4195 </td> <td>6/28/15</td> <td>1950         </td> <td>CLE        </td> <td>20   </td>\n",
       "        </tr>\n",
       "    </tbody>\n",
       "</table>\n",
       "<p>... (490 rows omitted)</p>"
      ],
      "text/plain": [
       "Row   | Date    | Flight Number | Destination | Delay\n",
       "11816 | 8/17/15 | 1984          | PDX         | 26\n",
       "9233  | 8/1/15  | 663           | HNL         | 20\n",
       "12006 | 8/19/15 | 753           | DEN         | 8\n",
       "12227 | 8/20/15 | 1704          | IAD         | -3\n",
       "737   | 6/5/15  | 1742          | LAS         | 15\n",
       "6646  | 7/15/15 | 1178          | PDX         | -2\n",
       "8348  | 7/26/15 | 1608          | EWR         | -2\n",
       "1721  | 6/12/15 | 1076          | BOS         | 66\n",
       "13824 | 8/31/15 | 2013          | EWR         | -2\n",
       "4195  | 6/28/15 | 1950          | CLE         | 20\n",
       "... (490 rows omitted)"
      ]
     },
     "execution_count": 16,
     "metadata": {},
     "output_type": "execute_result"
    }
   ],
   "source": [
    "with_rep = united.sample(500)\n",
    "with_rep"
   ]
  },
  {
   "cell_type": "code",
   "execution_count": 17,
   "metadata": {},
   "outputs": [
    {
     "data": {
      "image/png": "[encoded data removed]",
      "text/plain": [
       "<Figure size 432x288 with 1 Axes>"
      ]
     },
     "metadata": {},
     "output_type": "display_data"
    }
   ],
   "source": [
    "with_rep.hist(\"Delay\", bins=np.arange(-50, 250, 10))"
   ]
  },
  {
   "cell_type": "markdown",
   "metadata": {},
   "source": [
    "#### Simple Random Samples"
   ]
  },
  {
   "cell_type": "code",
   "execution_count": 18,
   "metadata": {},
   "outputs": [
    {
     "data": {
      "text/html": [
       "<table border=\"1\" class=\"dataframe\">\n",
       "    <thead>\n",
       "        <tr>\n",
       "            <th>Row</th> <th>Date</th> <th>Flight Number</th> <th>Destination</th> <th>Delay</th>\n",
       "        </tr>\n",
       "    </thead>\n",
       "    <tbody>\n",
       "        <tr>\n",
       "            <td>9037</td> <td>7/31/15</td> <td>276          </td> <td>EWR        </td> <td>-6   </td>\n",
       "        </tr>\n",
       "        <tr>\n",
       "            <td>8784</td> <td>7/29/15</td> <td>1092         </td> <td>LAS        </td> <td>-4   </td>\n",
       "        </tr>\n",
       "        <tr>\n",
       "            <td>6998</td> <td>7/17/15</td> <td>1616         </td> <td>SEA        </td> <td>5    </td>\n",
       "        </tr>\n",
       "        <tr>\n",
       "            <td>2286</td> <td>6/16/15</td> <td>587          </td> <td>SNA        </td> <td>6    </td>\n",
       "        </tr>\n",
       "        <tr>\n",
       "            <td>6238</td> <td>7/12/15</td> <td>1950         </td> <td>CLE        </td> <td>-2   </td>\n",
       "        </tr>\n",
       "        <tr>\n",
       "            <td>6425</td> <td>7/14/15</td> <td>331          </td> <td>DEN        </td> <td>-7   </td>\n",
       "        </tr>\n",
       "        <tr>\n",
       "            <td>1274</td> <td>6/9/15 </td> <td>1187         </td> <td>EWR        </td> <td>9    </td>\n",
       "        </tr>\n",
       "        <tr>\n",
       "            <td>8061</td> <td>7/24/15</td> <td>1531         </td> <td>RDU        </td> <td>-1   </td>\n",
       "        </tr>\n",
       "        <tr>\n",
       "            <td>9078</td> <td>7/31/15</td> <td>704          </td> <td>JFK        </td> <td>-2   </td>\n",
       "        </tr>\n",
       "        <tr>\n",
       "            <td>7480</td> <td>7/21/15</td> <td>237          </td> <td>STL        </td> <td>-1   </td>\n",
       "        </tr>\n",
       "    </tbody>\n",
       "</table>\n",
       "<p>... (490 rows omitted)</p>"
      ],
      "text/plain": [
       "Row  | Date    | Flight Number | Destination | Delay\n",
       "9037 | 7/31/15 | 276           | EWR         | -6\n",
       "8784 | 7/29/15 | 1092          | LAS         | -4\n",
       "6998 | 7/17/15 | 1616          | SEA         | 5\n",
       "2286 | 6/16/15 | 587           | SNA         | 6\n",
       "6238 | 7/12/15 | 1950          | CLE         | -2\n",
       "6425 | 7/14/15 | 331           | DEN         | -7\n",
       "1274 | 6/9/15  | 1187          | EWR         | 9\n",
       "8061 | 7/24/15 | 1531          | RDU         | -1\n",
       "9078 | 7/31/15 | 704           | JFK         | -2\n",
       "7480 | 7/21/15 | 237           | STL         | -1\n",
       "... (490 rows omitted)"
      ]
     },
     "execution_count": 18,
     "metadata": {},
     "output_type": "execute_result"
    }
   ],
   "source": [
    "without_rep = united.sample(500, with_replacement=False)\n",
    "without_rep"
   ]
  },
  {
   "cell_type": "code",
   "execution_count": 19,
   "metadata": {},
   "outputs": [
    {
     "data": {
      "image/png": "[encoded data removed]",
      "text/plain": [
       "<Figure size 432x288 with 1 Axes>"
      ]
     },
     "metadata": {},
     "output_type": "display_data"
    }
   ],
   "source": [
    "without_rep.hist(\"Delay\", bins=np.arange(-50, 250, 10))"
   ]
  },
  {
   "cell_type": "code",
   "execution_count": null,
   "metadata": {},
   "outputs": [],
   "source": []
  }
 ],
 "metadata": {
  "kernelspec": {
   "display_name": "Python 3",
   "language": "python",
   "name": "python3"
  },
  "language_info": {
   "codemirror_mode": {
    "name": "ipython",
    "version": 3
   },
   "file_extension": ".py",
   "mimetype": "text/x-python",
   "name": "python",
   "nbconvert_exporter": "python",
   "pygments_lexer": "ipython3",
   "version": "3.6.5"
  }
 },
 "nbformat": 4,
 "nbformat_minor": 2
}
